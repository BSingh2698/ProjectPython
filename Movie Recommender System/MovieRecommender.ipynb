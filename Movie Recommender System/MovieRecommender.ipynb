{
 "cells": [
  {
   "cell_type": "markdown",
   "metadata": {},
   "source": [
    "# Movie Recommender\n",
    "\n",
    "In this notebook, I have attempted to create a Movie Recommender System, using a **10M version of the MovieLens dataset** . Following files comprised the dataset:\n",
    "\n",
    "1. movies.dat : a table file having information for 10,000 movies\n",
    "2. ratings.dat : a table file containing 10,000,000 user-ratings\n",
    "3. tags.dat : a table file consisting of various tags associated with a movie \n",
    "\n",
    "You can download the data here: http://grouplens.org/datasets/movielens/10m/\n",
    "\n",
    "The recommendations are divided into four parts:\n",
    "1. Rating based : A simple recommender combining movie's popularity and average rating\n",
    "2. Genre based : Calculating genre based ratings for top recommendations\n",
    "3. Movie based : A content - based recommender, recommending similar movies\n",
    "4. User based : Based on *Collaborative Filtering* , this recommender gives out top movies a user is more likely to watch\n",
    "\n",
    "I have tried to proceed in a step by step manner, let's begin.\n",
    "\n",
    "\n",
    "## Step 1:\n",
    "\n",
    "Import the required libraries: \n",
    "  - Pandas and Numpy for data processing\n",
    "  - Matplotlib for visualisation\n",
    "  - Nltk for text processing of tags\n",
    "  - Sklearn for accessing cosine similarity metric\n",
    "  - Surprise library for singular value decomposition for collaborative filtering"
   ]
  },
  {
   "cell_type": "code",
   "execution_count": 1,
   "metadata": {},
   "outputs": [],
   "source": [
    "import pandas as pd\n",
    "import numpy as np\n",
    "import matplotlib.pyplot as plt\n",
    "from scipy import stats\n",
    "from nltk.stem.snowball import SnowballStemmer\n",
    "from sklearn.feature_extraction.text import CountVectorizer\n",
    "from sklearn.metrics.pairwise import linear_kernel, cosine_similarity\n",
    "from surprise import Reader, Dataset, SVD, SVDpp, SlopeOne, NMF,NormalPredictor,KNNBaseline,KNNBasic,KNNWithMeans, KNNWithZScore,BaselineOnly, CoClustering\n",
    "from surprise.model_selection import cross_validate\n",
    "from surprise import accuracy\n",
    "from surprise.model_selection import train_test_split\n",
    "import warnings; warnings.simplefilter('ignore')"
   ]
  },
  {
   "cell_type": "markdown",
   "metadata": {},
   "source": [
    "## Step 2:\n",
    "\n",
    "Load the data into dataframes and explore the various data heads\n",
    "  - Check for null values in the datasets\n",
    "  - Handle the missing values (fillna or dropna)\n",
    "  - Check for unnecessary feature values and remove the anomalies\n",
    "  "
   ]
  },
  {
   "cell_type": "code",
   "execution_count": 2,
   "metadata": {},
   "outputs": [],
   "source": [
    "movies=pd.read_csv('movies.dat', sep = '::',names = ['MovieID','Title','Genre'])\n",
    "ratings=pd.read_csv('ratings.dat', sep = '::',names = ['UserID','MovieID','Rating','Timestamp'])\n",
    "tags=pd.read_csv('tags.dat', sep = '::',names = ['UserID','MovieID','Tag','Timestamp'])"
   ]
  },
  {
   "cell_type": "code",
   "execution_count": 3,
   "metadata": {},
   "outputs": [
    {
     "data": {
      "text/html": [
       "<div>\n",
       "<style scoped>\n",
       "    .dataframe tbody tr th:only-of-type {\n",
       "        vertical-align: middle;\n",
       "    }\n",
       "\n",
       "    .dataframe tbody tr th {\n",
       "        vertical-align: top;\n",
       "    }\n",
       "\n",
       "    .dataframe thead th {\n",
       "        text-align: right;\n",
       "    }\n",
       "</style>\n",
       "<table border=\"1\" class=\"dataframe\">\n",
       "  <thead>\n",
       "    <tr style=\"text-align: right;\">\n",
       "      <th></th>\n",
       "      <th>MovieID</th>\n",
       "      <th>Title</th>\n",
       "      <th>Genre</th>\n",
       "    </tr>\n",
       "  </thead>\n",
       "  <tbody>\n",
       "    <tr>\n",
       "      <td>0</td>\n",
       "      <td>1</td>\n",
       "      <td>Toy Story (1995)</td>\n",
       "      <td>Adventure|Animation|Children|Comedy|Fantasy</td>\n",
       "    </tr>\n",
       "    <tr>\n",
       "      <td>1</td>\n",
       "      <td>2</td>\n",
       "      <td>Jumanji (1995)</td>\n",
       "      <td>Adventure|Children|Fantasy</td>\n",
       "    </tr>\n",
       "    <tr>\n",
       "      <td>2</td>\n",
       "      <td>3</td>\n",
       "      <td>Grumpier Old Men (1995)</td>\n",
       "      <td>Comedy|Romance</td>\n",
       "    </tr>\n",
       "    <tr>\n",
       "      <td>3</td>\n",
       "      <td>4</td>\n",
       "      <td>Waiting to Exhale (1995)</td>\n",
       "      <td>Comedy|Drama|Romance</td>\n",
       "    </tr>\n",
       "    <tr>\n",
       "      <td>4</td>\n",
       "      <td>5</td>\n",
       "      <td>Father of the Bride Part II (1995)</td>\n",
       "      <td>Comedy</td>\n",
       "    </tr>\n",
       "  </tbody>\n",
       "</table>\n",
       "</div>"
      ],
      "text/plain": [
       "   MovieID                               Title  \\\n",
       "0        1                    Toy Story (1995)   \n",
       "1        2                      Jumanji (1995)   \n",
       "2        3             Grumpier Old Men (1995)   \n",
       "3        4            Waiting to Exhale (1995)   \n",
       "4        5  Father of the Bride Part II (1995)   \n",
       "\n",
       "                                         Genre  \n",
       "0  Adventure|Animation|Children|Comedy|Fantasy  \n",
       "1                   Adventure|Children|Fantasy  \n",
       "2                               Comedy|Romance  \n",
       "3                         Comedy|Drama|Romance  \n",
       "4                                       Comedy  "
      ]
     },
     "execution_count": 3,
     "metadata": {},
     "output_type": "execute_result"
    }
   ],
   "source": [
    "movies.head()"
   ]
  },
  {
   "cell_type": "code",
   "execution_count": 4,
   "metadata": {},
   "outputs": [
    {
     "data": {
      "text/html": [
       "<div>\n",
       "<style scoped>\n",
       "    .dataframe tbody tr th:only-of-type {\n",
       "        vertical-align: middle;\n",
       "    }\n",
       "\n",
       "    .dataframe tbody tr th {\n",
       "        vertical-align: top;\n",
       "    }\n",
       "\n",
       "    .dataframe thead th {\n",
       "        text-align: right;\n",
       "    }\n",
       "</style>\n",
       "<table border=\"1\" class=\"dataframe\">\n",
       "  <thead>\n",
       "    <tr style=\"text-align: right;\">\n",
       "      <th></th>\n",
       "      <th>UserID</th>\n",
       "      <th>MovieID</th>\n",
       "      <th>Rating</th>\n",
       "      <th>Timestamp</th>\n",
       "    </tr>\n",
       "  </thead>\n",
       "  <tbody>\n",
       "    <tr>\n",
       "      <td>0</td>\n",
       "      <td>1</td>\n",
       "      <td>122</td>\n",
       "      <td>5.0</td>\n",
       "      <td>838985046</td>\n",
       "    </tr>\n",
       "    <tr>\n",
       "      <td>1</td>\n",
       "      <td>1</td>\n",
       "      <td>185</td>\n",
       "      <td>5.0</td>\n",
       "      <td>838983525</td>\n",
       "    </tr>\n",
       "    <tr>\n",
       "      <td>2</td>\n",
       "      <td>1</td>\n",
       "      <td>231</td>\n",
       "      <td>5.0</td>\n",
       "      <td>838983392</td>\n",
       "    </tr>\n",
       "    <tr>\n",
       "      <td>3</td>\n",
       "      <td>1</td>\n",
       "      <td>292</td>\n",
       "      <td>5.0</td>\n",
       "      <td>838983421</td>\n",
       "    </tr>\n",
       "    <tr>\n",
       "      <td>4</td>\n",
       "      <td>1</td>\n",
       "      <td>316</td>\n",
       "      <td>5.0</td>\n",
       "      <td>838983392</td>\n",
       "    </tr>\n",
       "  </tbody>\n",
       "</table>\n",
       "</div>"
      ],
      "text/plain": [
       "   UserID  MovieID  Rating  Timestamp\n",
       "0       1      122     5.0  838985046\n",
       "1       1      185     5.0  838983525\n",
       "2       1      231     5.0  838983392\n",
       "3       1      292     5.0  838983421\n",
       "4       1      316     5.0  838983392"
      ]
     },
     "execution_count": 4,
     "metadata": {},
     "output_type": "execute_result"
    }
   ],
   "source": [
    "ratings.head()"
   ]
  },
  {
   "cell_type": "code",
   "execution_count": 5,
   "metadata": {},
   "outputs": [
    {
     "data": {
      "text/html": [
       "<div>\n",
       "<style scoped>\n",
       "    .dataframe tbody tr th:only-of-type {\n",
       "        vertical-align: middle;\n",
       "    }\n",
       "\n",
       "    .dataframe tbody tr th {\n",
       "        vertical-align: top;\n",
       "    }\n",
       "\n",
       "    .dataframe thead th {\n",
       "        text-align: right;\n",
       "    }\n",
       "</style>\n",
       "<table border=\"1\" class=\"dataframe\">\n",
       "  <thead>\n",
       "    <tr style=\"text-align: right;\">\n",
       "      <th></th>\n",
       "      <th>UserID</th>\n",
       "      <th>MovieID</th>\n",
       "      <th>Tag</th>\n",
       "      <th>Timestamp</th>\n",
       "    </tr>\n",
       "  </thead>\n",
       "  <tbody>\n",
       "    <tr>\n",
       "      <td>0</td>\n",
       "      <td>15</td>\n",
       "      <td>4973</td>\n",
       "      <td>excellent!</td>\n",
       "      <td>1215184630</td>\n",
       "    </tr>\n",
       "    <tr>\n",
       "      <td>1</td>\n",
       "      <td>20</td>\n",
       "      <td>1747</td>\n",
       "      <td>politics</td>\n",
       "      <td>1188263867</td>\n",
       "    </tr>\n",
       "    <tr>\n",
       "      <td>2</td>\n",
       "      <td>20</td>\n",
       "      <td>1747</td>\n",
       "      <td>satire</td>\n",
       "      <td>1188263867</td>\n",
       "    </tr>\n",
       "    <tr>\n",
       "      <td>3</td>\n",
       "      <td>20</td>\n",
       "      <td>2424</td>\n",
       "      <td>chick flick 212</td>\n",
       "      <td>1188263835</td>\n",
       "    </tr>\n",
       "    <tr>\n",
       "      <td>4</td>\n",
       "      <td>20</td>\n",
       "      <td>2424</td>\n",
       "      <td>hanks</td>\n",
       "      <td>1188263835</td>\n",
       "    </tr>\n",
       "  </tbody>\n",
       "</table>\n",
       "</div>"
      ],
      "text/plain": [
       "   UserID  MovieID              Tag   Timestamp\n",
       "0      15     4973       excellent!  1215184630\n",
       "1      20     1747         politics  1188263867\n",
       "2      20     1747           satire  1188263867\n",
       "3      20     2424  chick flick 212  1188263835\n",
       "4      20     2424            hanks  1188263835"
      ]
     },
     "execution_count": 5,
     "metadata": {},
     "output_type": "execute_result"
    }
   ],
   "source": [
    "tags.head()"
   ]
  },
  {
   "cell_type": "code",
   "execution_count": 6,
   "metadata": {},
   "outputs": [
    {
     "data": {
      "text/plain": [
       "MovieID    False\n",
       "Title      False\n",
       "Genre      False\n",
       "dtype: bool"
      ]
     },
     "execution_count": 6,
     "metadata": {},
     "output_type": "execute_result"
    }
   ],
   "source": [
    "movies.isnull().any()"
   ]
  },
  {
   "cell_type": "code",
   "execution_count": 7,
   "metadata": {},
   "outputs": [
    {
     "data": {
      "text/plain": [
       "UserID       False\n",
       "MovieID      False\n",
       "Rating       False\n",
       "Timestamp    False\n",
       "dtype: bool"
      ]
     },
     "execution_count": 7,
     "metadata": {},
     "output_type": "execute_result"
    }
   ],
   "source": [
    "ratings.isnull().any()"
   ]
  },
  {
   "cell_type": "code",
   "execution_count": 8,
   "metadata": {},
   "outputs": [
    {
     "data": {
      "text/plain": [
       "UserID       False\n",
       "MovieID      False\n",
       "Tag           True\n",
       "Timestamp    False\n",
       "dtype: bool"
      ]
     },
     "execution_count": 8,
     "metadata": {},
     "output_type": "execute_result"
    }
   ],
   "source": [
    "tags.isnull().any()"
   ]
  },
  {
   "cell_type": "code",
   "execution_count": 9,
   "metadata": {},
   "outputs": [],
   "source": [
    "tags = tags.fillna('')"
   ]
  },
  {
   "cell_type": "code",
   "execution_count": 10,
   "metadata": {},
   "outputs": [
    {
     "data": {
      "text/plain": [
       "UserID       False\n",
       "MovieID      False\n",
       "Tag          False\n",
       "Timestamp    False\n",
       "dtype: bool"
      ]
     },
     "execution_count": 10,
     "metadata": {},
     "output_type": "execute_result"
    }
   ],
   "source": [
    "tags.isnull().any()"
   ]
  },
  {
   "cell_type": "code",
   "execution_count": 11,
   "metadata": {},
   "outputs": [
    {
     "data": {
      "text/plain": [
       "Adventure|Fantasy|Mystery                   1\n",
       "Adventure|IMAX|Romance                      1\n",
       "Animation|Comedy|Drama|Fantasy|Sci-Fi       1\n",
       "Animation|Drama|Mystery|Sci-Fi|Thriller     1\n",
       "Action|Drama|Musical|Romance                1\n",
       "Animation|Comedy|Fantasy|Musical|Romance    1\n",
       "Animation|Fantasy|Thriller                  1\n",
       "Animation|Crime|Mystery                     1\n",
       "Adventure|Horror|Thriller                   1\n",
       "Animation|Children|Comedy|Crime             1\n",
       "Name: Genre, dtype: int64"
      ]
     },
     "execution_count": 11,
     "metadata": {},
     "output_type": "execute_result"
    }
   ],
   "source": [
    "movies['Genre'].value_counts()[-10:]"
   ]
  },
  {
   "cell_type": "code",
   "execution_count": 12,
   "metadata": {},
   "outputs": [],
   "source": [
    "movies = movies.drop(movies[movies['Genre']=='(no genres listed)'].index)"
   ]
  },
  {
   "cell_type": "markdown",
   "metadata": {},
   "source": [
    "## Step 3\n",
    "\n",
    "Visualising the data:\n",
    " - Combine the datasets and explore the relation between different features\n",
    " - Note the imbalance and trends (if any) in the dataset for feature engineering"
   ]
  },
  {
   "cell_type": "code",
   "execution_count": 13,
   "metadata": {},
   "outputs": [],
   "source": [
    "# separating genres for each movie\n",
    "genre_list = movies.apply(lambda x: pd.Series(x['Genre'].split('|')),axis=1).stack().reset_index(level=1, drop=True)\n",
    "genre_list.name = 'Genre'\n",
    "movies_new = movies.drop('Genre', axis=1).join(genre_list)"
   ]
  },
  {
   "cell_type": "code",
   "execution_count": 14,
   "metadata": {},
   "outputs": [
    {
     "data": {
      "text/html": [
       "<div>\n",
       "<style scoped>\n",
       "    .dataframe tbody tr th:only-of-type {\n",
       "        vertical-align: middle;\n",
       "    }\n",
       "\n",
       "    .dataframe tbody tr th {\n",
       "        vertical-align: top;\n",
       "    }\n",
       "\n",
       "    .dataframe thead th {\n",
       "        text-align: right;\n",
       "    }\n",
       "</style>\n",
       "<table border=\"1\" class=\"dataframe\">\n",
       "  <thead>\n",
       "    <tr style=\"text-align: right;\">\n",
       "      <th></th>\n",
       "      <th>MovieID</th>\n",
       "      <th>Title</th>\n",
       "      <th>Genre</th>\n",
       "    </tr>\n",
       "  </thead>\n",
       "  <tbody>\n",
       "    <tr>\n",
       "      <td>0</td>\n",
       "      <td>1</td>\n",
       "      <td>Toy Story (1995)</td>\n",
       "      <td>Adventure</td>\n",
       "    </tr>\n",
       "    <tr>\n",
       "      <td>0</td>\n",
       "      <td>1</td>\n",
       "      <td>Toy Story (1995)</td>\n",
       "      <td>Animation</td>\n",
       "    </tr>\n",
       "    <tr>\n",
       "      <td>0</td>\n",
       "      <td>1</td>\n",
       "      <td>Toy Story (1995)</td>\n",
       "      <td>Children</td>\n",
       "    </tr>\n",
       "    <tr>\n",
       "      <td>0</td>\n",
       "      <td>1</td>\n",
       "      <td>Toy Story (1995)</td>\n",
       "      <td>Comedy</td>\n",
       "    </tr>\n",
       "    <tr>\n",
       "      <td>0</td>\n",
       "      <td>1</td>\n",
       "      <td>Toy Story (1995)</td>\n",
       "      <td>Fantasy</td>\n",
       "    </tr>\n",
       "    <tr>\n",
       "      <td>1</td>\n",
       "      <td>2</td>\n",
       "      <td>Jumanji (1995)</td>\n",
       "      <td>Adventure</td>\n",
       "    </tr>\n",
       "    <tr>\n",
       "      <td>1</td>\n",
       "      <td>2</td>\n",
       "      <td>Jumanji (1995)</td>\n",
       "      <td>Children</td>\n",
       "    </tr>\n",
       "    <tr>\n",
       "      <td>1</td>\n",
       "      <td>2</td>\n",
       "      <td>Jumanji (1995)</td>\n",
       "      <td>Fantasy</td>\n",
       "    </tr>\n",
       "    <tr>\n",
       "      <td>2</td>\n",
       "      <td>3</td>\n",
       "      <td>Grumpier Old Men (1995)</td>\n",
       "      <td>Comedy</td>\n",
       "    </tr>\n",
       "    <tr>\n",
       "      <td>2</td>\n",
       "      <td>3</td>\n",
       "      <td>Grumpier Old Men (1995)</td>\n",
       "      <td>Romance</td>\n",
       "    </tr>\n",
       "  </tbody>\n",
       "</table>\n",
       "</div>"
      ],
      "text/plain": [
       "   MovieID                    Title      Genre\n",
       "0        1         Toy Story (1995)  Adventure\n",
       "0        1         Toy Story (1995)  Animation\n",
       "0        1         Toy Story (1995)   Children\n",
       "0        1         Toy Story (1995)     Comedy\n",
       "0        1         Toy Story (1995)    Fantasy\n",
       "1        2           Jumanji (1995)  Adventure\n",
       "1        2           Jumanji (1995)   Children\n",
       "1        2           Jumanji (1995)    Fantasy\n",
       "2        3  Grumpier Old Men (1995)     Comedy\n",
       "2        3  Grumpier Old Men (1995)    Romance"
      ]
     },
     "execution_count": 14,
     "metadata": {},
     "output_type": "execute_result"
    }
   ],
   "source": [
    "movies_new.head(10)"
   ]
  },
  {
   "cell_type": "code",
   "execution_count": 15,
   "metadata": {},
   "outputs": [],
   "source": [
    "# merging dataframe movies with ratings i.e mapping each movie to different user ratings given\n",
    "movie_rating = movies_new.join(ratings.set_index('MovieID'), on='MovieID')"
   ]
  },
  {
   "cell_type": "code",
   "execution_count": 16,
   "metadata": {},
   "outputs": [
    {
     "data": {
      "text/html": [
       "<div>\n",
       "<style scoped>\n",
       "    .dataframe tbody tr th:only-of-type {\n",
       "        vertical-align: middle;\n",
       "    }\n",
       "\n",
       "    .dataframe tbody tr th {\n",
       "        vertical-align: top;\n",
       "    }\n",
       "\n",
       "    .dataframe thead th {\n",
       "        text-align: right;\n",
       "    }\n",
       "</style>\n",
       "<table border=\"1\" class=\"dataframe\">\n",
       "  <thead>\n",
       "    <tr style=\"text-align: right;\">\n",
       "      <th></th>\n",
       "      <th>MovieID</th>\n",
       "      <th>Title</th>\n",
       "      <th>Genre</th>\n",
       "      <th>UserID</th>\n",
       "      <th>Rating</th>\n",
       "      <th>Timestamp</th>\n",
       "    </tr>\n",
       "  </thead>\n",
       "  <tbody>\n",
       "    <tr>\n",
       "      <td>0</td>\n",
       "      <td>1</td>\n",
       "      <td>Toy Story (1995)</td>\n",
       "      <td>Adventure</td>\n",
       "      <td>5.0</td>\n",
       "      <td>1.0</td>\n",
       "      <td>857911264.0</td>\n",
       "    </tr>\n",
       "    <tr>\n",
       "      <td>0</td>\n",
       "      <td>1</td>\n",
       "      <td>Toy Story (1995)</td>\n",
       "      <td>Animation</td>\n",
       "      <td>5.0</td>\n",
       "      <td>1.0</td>\n",
       "      <td>857911264.0</td>\n",
       "    </tr>\n",
       "    <tr>\n",
       "      <td>0</td>\n",
       "      <td>1</td>\n",
       "      <td>Toy Story (1995)</td>\n",
       "      <td>Children</td>\n",
       "      <td>5.0</td>\n",
       "      <td>1.0</td>\n",
       "      <td>857911264.0</td>\n",
       "    </tr>\n",
       "    <tr>\n",
       "      <td>0</td>\n",
       "      <td>1</td>\n",
       "      <td>Toy Story (1995)</td>\n",
       "      <td>Comedy</td>\n",
       "      <td>5.0</td>\n",
       "      <td>1.0</td>\n",
       "      <td>857911264.0</td>\n",
       "    </tr>\n",
       "    <tr>\n",
       "      <td>0</td>\n",
       "      <td>1</td>\n",
       "      <td>Toy Story (1995)</td>\n",
       "      <td>Fantasy</td>\n",
       "      <td>5.0</td>\n",
       "      <td>1.0</td>\n",
       "      <td>857911264.0</td>\n",
       "    </tr>\n",
       "    <tr>\n",
       "      <td>...</td>\n",
       "      <td>...</td>\n",
       "      <td>...</td>\n",
       "      <td>...</td>\n",
       "      <td>...</td>\n",
       "      <td>...</td>\n",
       "      <td>...</td>\n",
       "    </tr>\n",
       "    <tr>\n",
       "      <td>1271</td>\n",
       "      <td>1300</td>\n",
       "      <td>My Life as a Dog (Mitt liv som hund) (1985)</td>\n",
       "      <td>Comedy</td>\n",
       "      <td>5.0</td>\n",
       "      <td>4.0</td>\n",
       "      <td>857913553.0</td>\n",
       "    </tr>\n",
       "    <tr>\n",
       "      <td>1271</td>\n",
       "      <td>1300</td>\n",
       "      <td>My Life as a Dog (Mitt liv som hund) (1985)</td>\n",
       "      <td>Drama</td>\n",
       "      <td>5.0</td>\n",
       "      <td>4.0</td>\n",
       "      <td>857913553.0</td>\n",
       "    </tr>\n",
       "    <tr>\n",
       "      <td>1360</td>\n",
       "      <td>1391</td>\n",
       "      <td>Mars Attacks! (1996)</td>\n",
       "      <td>Action</td>\n",
       "      <td>5.0</td>\n",
       "      <td>1.0</td>\n",
       "      <td>857911690.0</td>\n",
       "    </tr>\n",
       "    <tr>\n",
       "      <td>1360</td>\n",
       "      <td>1391</td>\n",
       "      <td>Mars Attacks! (1996)</td>\n",
       "      <td>Comedy</td>\n",
       "      <td>5.0</td>\n",
       "      <td>1.0</td>\n",
       "      <td>857911690.0</td>\n",
       "    </tr>\n",
       "    <tr>\n",
       "      <td>1360</td>\n",
       "      <td>1391</td>\n",
       "      <td>Mars Attacks! (1996)</td>\n",
       "      <td>Sci-Fi</td>\n",
       "      <td>5.0</td>\n",
       "      <td>1.0</td>\n",
       "      <td>857911690.0</td>\n",
       "    </tr>\n",
       "  </tbody>\n",
       "</table>\n",
       "<p>195 rows × 6 columns</p>\n",
       "</div>"
      ],
      "text/plain": [
       "      MovieID                                        Title      Genre  UserID  \\\n",
       "0           1                             Toy Story (1995)  Adventure     5.0   \n",
       "0           1                             Toy Story (1995)  Animation     5.0   \n",
       "0           1                             Toy Story (1995)   Children     5.0   \n",
       "0           1                             Toy Story (1995)     Comedy     5.0   \n",
       "0           1                             Toy Story (1995)    Fantasy     5.0   \n",
       "...       ...                                          ...        ...     ...   \n",
       "1271     1300  My Life as a Dog (Mitt liv som hund) (1985)     Comedy     5.0   \n",
       "1271     1300  My Life as a Dog (Mitt liv som hund) (1985)      Drama     5.0   \n",
       "1360     1391                         Mars Attacks! (1996)     Action     5.0   \n",
       "1360     1391                         Mars Attacks! (1996)     Comedy     5.0   \n",
       "1360     1391                         Mars Attacks! (1996)     Sci-Fi     5.0   \n",
       "\n",
       "      Rating    Timestamp  \n",
       "0        1.0  857911264.0  \n",
       "0        1.0  857911264.0  \n",
       "0        1.0  857911264.0  \n",
       "0        1.0  857911264.0  \n",
       "0        1.0  857911264.0  \n",
       "...      ...          ...  \n",
       "1271     4.0  857913553.0  \n",
       "1271     4.0  857913553.0  \n",
       "1360     1.0  857911690.0  \n",
       "1360     1.0  857911690.0  \n",
       "1360     1.0  857911690.0  \n",
       "\n",
       "[195 rows x 6 columns]"
      ]
     },
     "execution_count": 16,
     "metadata": {},
     "output_type": "execute_result"
    }
   ],
   "source": [
    "movie_rating[movie_rating['UserID']==5]"
   ]
  },
  {
   "cell_type": "code",
   "execution_count": 17,
   "metadata": {},
   "outputs": [],
   "source": [
    "movie_rating=movie_rating.drop('Timestamp',axis=1)"
   ]
  },
  {
   "cell_type": "code",
   "execution_count": 18,
   "metadata": {},
   "outputs": [
    {
     "data": {
      "text/plain": [
       "count    1.000005e+07\n",
       "mean     3.512422e+00\n",
       "std      1.060418e+00\n",
       "min      5.000000e-01\n",
       "25%      3.000000e+00\n",
       "50%      4.000000e+00\n",
       "75%      4.000000e+00\n",
       "max      5.000000e+00\n",
       "Name: Rating, dtype: float64"
      ]
     },
     "execution_count": 18,
     "metadata": {},
     "output_type": "execute_result"
    }
   ],
   "source": [
    "ratings['Rating'].describe()"
   ]
  },
  {
   "cell_type": "code",
   "execution_count": 19,
   "metadata": {},
   "outputs": [
    {
     "data": {
      "image/png": "[encoded data removed]",
      "text/plain": [
       "<Figure size 432x288 with 1 Axes>"
      ]
     },
     "metadata": {
      "needs_background": "light"
     },
     "output_type": "display_data"
    }
   ],
   "source": [
    "#Distribution of ratings accross dataset\n",
    "ratings['Rating'].value_counts().plot(kind='bar')\n",
    "plt.show()"
   ]
  },
  {
   "cell_type": "markdown",
   "metadata": {},
   "source": [
    "From the graph and the stats above we can see that people have been generous in their ratings as it averages out around 3.5, implying more than 50% of movies have been rated between 3 to 4."
   ]
  },
  {
   "cell_type": "code",
   "execution_count": 20,
   "metadata": {},
   "outputs": [
    {
     "data": {
      "image/png": "[encoded data removed]",
      "text/plain": [
       "<Figure size 432x288 with 1 Axes>"
      ]
     },
     "metadata": {
      "needs_background": "light"
     },
     "output_type": "display_data"
    }
   ],
   "source": [
    "#distribution of genres across movies listed\n",
    "movies_new['Genre'].value_counts().plot(kind='bar')\n",
    "plt.show()"
   ]
  },
  {
   "cell_type": "markdown",
   "metadata": {},
   "source": [
    "More than 50% of the movies in the dataset belong to 'Drama' category, seconded by 'Comedy'. "
   ]
  },
  {
   "cell_type": "code",
   "execution_count": 21,
   "metadata": {},
   "outputs": [
    {
     "data": {
      "text/plain": [
       "<matplotlib.axes._subplots.AxesSubplot at 0x24405274cc8>"
      ]
     },
     "execution_count": 21,
     "metadata": {},
     "output_type": "execute_result"
    },
    {
     "data": {
      "image/png": "[encoded data removed]",
      "text/plain": [
       "<Figure size 432x288 with 1 Axes>"
      ]
     },
     "metadata": {
      "needs_background": "light"
     },
     "output_type": "display_data"
    }
   ],
   "source": [
    "#disribution of genre with average rating over dataset\n",
    "movie_rating.groupby('Genre').mean()['Rating'].sort_values(ascending = False).plot(kind='bar')"
   ]
  },
  {
   "cell_type": "markdown",
   "metadata": {},
   "source": [
    "And 'the most loved genre' goes to... No peculiar trend here, just evenly distributed ratings! The ratings have been averaged out. Note it shows that 'Film Noir' rates better on average than other genres, however the population distribution of the genre is very low and thus nothing could be concluded about the actual popularity and rating of the genre."
   ]
  },
  {
   "cell_type": "code",
   "execution_count": 22,
   "metadata": {},
   "outputs": [],
   "source": [
    "movie_rating2 = movies.join(ratings.set_index('MovieID'), on='MovieID')"
   ]
  },
  {
   "cell_type": "code",
   "execution_count": 23,
   "metadata": {},
   "outputs": [],
   "source": [
    "movie_rating2 = movie_rating2.dropna()"
   ]
  },
  {
   "cell_type": "code",
   "execution_count": 24,
   "metadata": {},
   "outputs": [],
   "source": [
    "tot_users = len(movie_rating['UserID'].unique())"
   ]
  },
  {
   "cell_type": "code",
   "execution_count": 25,
   "metadata": {},
   "outputs": [
    {
     "data": {
      "text/plain": [
       "<matplotlib.axes._subplots.AxesSubplot at 0x24405204688>"
      ]
     },
     "execution_count": 25,
     "metadata": {},
     "output_type": "execute_result"
    },
    {
     "data": {
      "image/png": "[encoded data removed]",
      "text/plain": [
       "<Figure size 432x288 with 1 Axes>"
      ]
     },
     "metadata": {
      "needs_background": "light"
     },
     "output_type": "display_data"
    }
   ],
   "source": [
    "#populatrity (% users rated) distribution of movies in the dataset; top-20 popular\n",
    "(movie_rating2['Title'].value_counts()[:20]*100/tot_users).plot(kind='bar')"
   ]
  },
  {
   "cell_type": "markdown",
   "metadata": {},
   "source": [
    "Let's see the top-20 popular movies in the dataset. We see some interesting movies here,even favourites like - *Shawshank Redemption* , *Jurassic Park* ,*Star Wars* and ever so popular *Pulp fiction*"
   ]
  },
  {
   "cell_type": "code",
   "execution_count": 26,
   "metadata": {},
   "outputs": [
    {
     "data": {
      "text/plain": [
       "<matplotlib.axes._subplots.AxesSubplot at 0x244051ad2c8>"
      ]
     },
     "execution_count": 26,
     "metadata": {},
     "output_type": "execute_result"
    },
    {
     "data": {
      "image/png": "[encoded data removed]",
      "text/plain": [
       "<Figure size 432x288 with 1 Axes>"
      ]
     },
     "metadata": {
      "needs_background": "light"
     },
     "output_type": "display_data"
    }
   ],
   "source": [
    "# avg-rating of movies over the datset ;  top-20 rated movies\n",
    "movie_rating2.groupby('Title').mean()['Rating'].sort_values(ascending = False)[:20].plot(kind='bar')"
   ]
  },
  {
   "cell_type": "markdown",
   "metadata": {},
   "source": [
    "However, the top-20 rated movies don't ring any bells. So either I missed really good cinema or these movies are really unpopular.\n",
    "\n",
    "Now, for recommendations we assume the rule of majority. One is more likely to watch a popular movie with decent rating than a movie rated 5 which no-one has heard of. \n",
    "\n",
    "So to level the playing field we will factor in the number of votes into our rating.\n",
    "\n",
    "\n",
    "## Step 4: Processing data for Recommendations \n",
    "\n",
    "\n",
    "\n",
    "## Rating Based Recommender \n",
    "\n",
    "For our first recommender we will use the IMDB's weighted rating formula. We will be using this rating metric for other recommenders as well.\n"
   ]
  },
  {
   "cell_type": "markdown",
   "metadata": {},
   "source": [
    "$ Weighted Rating = (\\frac{v}{v+m}.R) + (\\frac{m}{v+m}.C) $\n",
    "\n",
    "where,\n",
    "   -  v is the number of vote counts for a movie\n",
    "   -  m is the minimum number of votes required for featuring in recommendation\n",
    "   -  R is the average rating of the movie\n",
    "   -  C is the mean vote across the ratings chart\n",
    "       "
   ]
  },
  {
   "cell_type": "code",
   "execution_count": 27,
   "metadata": {},
   "outputs": [],
   "source": [
    "r=movie_rating2.groupby('MovieID').mean()['Rating']\n",
    "p=movie_rating2['MovieID'].value_counts()"
   ]
  },
  {
   "cell_type": "code",
   "execution_count": 28,
   "metadata": {},
   "outputs": [],
   "source": [
    "p.name = 'Rating Count'\n",
    "r.name = 'Mean Rating'"
   ]
  },
  {
   "cell_type": "code",
   "execution_count": 29,
   "metadata": {},
   "outputs": [],
   "source": [
    "movies = movies.join(r,on='MovieID')\n",
    "movies = movies.join(p,on='MovieID')"
   ]
  },
  {
   "cell_type": "code",
   "execution_count": 30,
   "metadata": {},
   "outputs": [],
   "source": [
    "movies_new = movies_new.join(r,on='MovieID')\n",
    "movies_new = movies_new.join(p,on='MovieID')"
   ]
  },
  {
   "cell_type": "code",
   "execution_count": 31,
   "metadata": {},
   "outputs": [],
   "source": [
    "# calculating average reating (C) and minimum votes required (m)\n",
    "# for m, capping the number of votes at 80 percentile\n",
    "r_avg = movies['Mean Rating'].mean()\n",
    "p_min = movies['Rating Count'].quantile(.80)"
   ]
  },
  {
   "cell_type": "code",
   "execution_count": 32,
   "metadata": {},
   "outputs": [],
   "source": [
    "movies_filtered = movies[movies['Rating Count']>p_min]"
   ]
  },
  {
   "cell_type": "code",
   "execution_count": 33,
   "metadata": {},
   "outputs": [],
   "source": [
    "def weighted_rating(x,r_avg,p_min):\n",
    "    p = x['Rating Count']\n",
    "    r = x['Mean Rating']\n",
    "    return (p*r)/(p+p_min) + (p_min*r_avg)/(p+p_min)"
   ]
  },
  {
   "cell_type": "code",
   "execution_count": 34,
   "metadata": {},
   "outputs": [],
   "source": [
    "movies_filtered['wt_rating'] = movies_filtered.apply(weighted_rating,axis=1,args=[r_avg,p_min])"
   ]
  },
  {
   "cell_type": "code",
   "execution_count": 35,
   "metadata": {},
   "outputs": [],
   "source": [
    "movies_filtered = movies_filtered.sort_values(by = 'wt_rating',ascending = False)"
   ]
  },
  {
   "cell_type": "code",
   "execution_count": 36,
   "metadata": {},
   "outputs": [
    {
     "data": {
      "text/html": [
       "<div>\n",
       "<style scoped>\n",
       "    .dataframe tbody tr th:only-of-type {\n",
       "        vertical-align: middle;\n",
       "    }\n",
       "\n",
       "    .dataframe tbody tr th {\n",
       "        vertical-align: top;\n",
       "    }\n",
       "\n",
       "    .dataframe thead th {\n",
       "        text-align: right;\n",
       "    }\n",
       "</style>\n",
       "<table border=\"1\" class=\"dataframe\">\n",
       "  <thead>\n",
       "    <tr style=\"text-align: right;\">\n",
       "      <th></th>\n",
       "      <th>MovieID</th>\n",
       "      <th>Title</th>\n",
       "      <th>Genre</th>\n",
       "      <th>Mean Rating</th>\n",
       "      <th>Rating Count</th>\n",
       "      <th>wt_rating</th>\n",
       "    </tr>\n",
       "  </thead>\n",
       "  <tbody>\n",
       "    <tr>\n",
       "      <td>315</td>\n",
       "      <td>318</td>\n",
       "      <td>Shawshank Redemption, The (1994)</td>\n",
       "      <td>Drama</td>\n",
       "      <td>4.457238</td>\n",
       "      <td>31126.0</td>\n",
       "      <td>4.420682</td>\n",
       "    </tr>\n",
       "    <tr>\n",
       "      <td>843</td>\n",
       "      <td>858</td>\n",
       "      <td>Godfather, The (1972)</td>\n",
       "      <td>Crime|Drama</td>\n",
       "      <td>4.415085</td>\n",
       "      <td>19814.0</td>\n",
       "      <td>4.360473</td>\n",
       "    </tr>\n",
       "    <tr>\n",
       "      <td>49</td>\n",
       "      <td>50</td>\n",
       "      <td>Usual Suspects, The (1995)</td>\n",
       "      <td>Crime|Mystery|Thriller</td>\n",
       "      <td>4.367142</td>\n",
       "      <td>24037.0</td>\n",
       "      <td>4.323547</td>\n",
       "    </tr>\n",
       "    <tr>\n",
       "      <td>523</td>\n",
       "      <td>527</td>\n",
       "      <td>Schindler's List (1993)</td>\n",
       "      <td>Drama|War</td>\n",
       "      <td>4.363483</td>\n",
       "      <td>25777.0</td>\n",
       "      <td>4.322856</td>\n",
       "    </tr>\n",
       "    <tr>\n",
       "      <td>895</td>\n",
       "      <td>912</td>\n",
       "      <td>Casablanca (1942)</td>\n",
       "      <td>Drama|Romance</td>\n",
       "      <td>4.319741</td>\n",
       "      <td>12507.0</td>\n",
       "      <td>4.241994</td>\n",
       "    </tr>\n",
       "    <tr>\n",
       "      <td>1195</td>\n",
       "      <td>1221</td>\n",
       "      <td>Godfather: Part II, The (1974)</td>\n",
       "      <td>Crime|Drama</td>\n",
       "      <td>4.303215</td>\n",
       "      <td>13281.0</td>\n",
       "      <td>4.230781</td>\n",
       "    </tr>\n",
       "    <tr>\n",
       "      <td>1169</td>\n",
       "      <td>1193</td>\n",
       "      <td>One Flew Over the Cuckoo's Nest (1975)</td>\n",
       "      <td>Comedy|Drama</td>\n",
       "      <td>4.292380</td>\n",
       "      <td>14435.0</td>\n",
       "      <td>4.226041</td>\n",
       "    </tr>\n",
       "    <tr>\n",
       "      <td>1173</td>\n",
       "      <td>1198</td>\n",
       "      <td>Raiders of the Lost Ark (Indiana Jones and the...</td>\n",
       "      <td>Action|Adventure</td>\n",
       "      <td>4.261317</td>\n",
       "      <td>21803.0</td>\n",
       "      <td>4.217749</td>\n",
       "    </tr>\n",
       "    <tr>\n",
       "      <td>737</td>\n",
       "      <td>750</td>\n",
       "      <td>Dr. Strangelove or: How I Learned to Stop Worr...</td>\n",
       "      <td>Comedy|War</td>\n",
       "      <td>4.298072</td>\n",
       "      <td>11774.0</td>\n",
       "      <td>4.217418</td>\n",
       "    </tr>\n",
       "    <tr>\n",
       "      <td>887</td>\n",
       "      <td>904</td>\n",
       "      <td>Rear Window (1954)</td>\n",
       "      <td>Mystery|Thriller</td>\n",
       "      <td>4.316544</td>\n",
       "      <td>8825.0</td>\n",
       "      <td>4.209744</td>\n",
       "    </tr>\n",
       "  </tbody>\n",
       "</table>\n",
       "</div>"
      ],
      "text/plain": [
       "      MovieID                                              Title  \\\n",
       "315       318                   Shawshank Redemption, The (1994)   \n",
       "843       858                              Godfather, The (1972)   \n",
       "49         50                         Usual Suspects, The (1995)   \n",
       "523       527                            Schindler's List (1993)   \n",
       "895       912                                  Casablanca (1942)   \n",
       "1195     1221                     Godfather: Part II, The (1974)   \n",
       "1169     1193             One Flew Over the Cuckoo's Nest (1975)   \n",
       "1173     1198  Raiders of the Lost Ark (Indiana Jones and the...   \n",
       "737       750  Dr. Strangelove or: How I Learned to Stop Worr...   \n",
       "887       904                                 Rear Window (1954)   \n",
       "\n",
       "                       Genre  Mean Rating  Rating Count  wt_rating  \n",
       "315                    Drama     4.457238       31126.0   4.420682  \n",
       "843              Crime|Drama     4.415085       19814.0   4.360473  \n",
       "49    Crime|Mystery|Thriller     4.367142       24037.0   4.323547  \n",
       "523                Drama|War     4.363483       25777.0   4.322856  \n",
       "895            Drama|Romance     4.319741       12507.0   4.241994  \n",
       "1195             Crime|Drama     4.303215       13281.0   4.230781  \n",
       "1169            Comedy|Drama     4.292380       14435.0   4.226041  \n",
       "1173        Action|Adventure     4.261317       21803.0   4.217749  \n",
       "737               Comedy|War     4.298072       11774.0   4.217418  \n",
       "887         Mystery|Thriller     4.316544        8825.0   4.209744  "
      ]
     },
     "execution_count": 36,
     "metadata": {},
     "output_type": "execute_result"
    }
   ],
   "source": [
    "movies_filtered.head(10)"
   ]
  },
  {
   "cell_type": "markdown",
   "metadata": {},
   "source": [
    "Now, we are talking . These are truly the must-watch movies , rightly popular and now appropriately rated.\n",
    "\n",
    "\n",
    "Let's look at our old movie set and the number of ratings for each movie. \n",
    "\n",
    "We see all the 'top-20 rated' movies have ratings close or equal to 5, while the number of ratings barely cross 10. ( no wonder I hadn't heard of them )"
   ]
  },
  {
   "cell_type": "code",
   "execution_count": 37,
   "metadata": {},
   "outputs": [
    {
     "data": {
      "text/html": [
       "<div>\n",
       "<style scoped>\n",
       "    .dataframe tbody tr th:only-of-type {\n",
       "        vertical-align: middle;\n",
       "    }\n",
       "\n",
       "    .dataframe tbody tr th {\n",
       "        vertical-align: top;\n",
       "    }\n",
       "\n",
       "    .dataframe thead th {\n",
       "        text-align: right;\n",
       "    }\n",
       "</style>\n",
       "<table border=\"1\" class=\"dataframe\">\n",
       "  <thead>\n",
       "    <tr style=\"text-align: right;\">\n",
       "      <th></th>\n",
       "      <th>MovieID</th>\n",
       "      <th>Title</th>\n",
       "      <th>Genre</th>\n",
       "      <th>Mean Rating</th>\n",
       "      <th>Rating Count</th>\n",
       "    </tr>\n",
       "  </thead>\n",
       "  <tbody>\n",
       "    <tr>\n",
       "      <td>9408</td>\n",
       "      <td>42783</td>\n",
       "      <td>Shadows of Forgotten Ancestors (1964)</td>\n",
       "      <td>Drama|Romance</td>\n",
       "      <td>5.00</td>\n",
       "      <td>1.0</td>\n",
       "    </tr>\n",
       "    <tr>\n",
       "      <td>10614</td>\n",
       "      <td>64275</td>\n",
       "      <td>Blue Light, The (Das Blaue Licht) (1932)</td>\n",
       "      <td>Drama|Fantasy|Mystery</td>\n",
       "      <td>5.00</td>\n",
       "      <td>1.0</td>\n",
       "    </tr>\n",
       "    <tr>\n",
       "      <td>9083</td>\n",
       "      <td>33264</td>\n",
       "      <td>Satan's Tango (SÃ¡tÃ¡ntangÃ³) (1994)</td>\n",
       "      <td>Drama</td>\n",
       "      <td>5.00</td>\n",
       "      <td>2.0</td>\n",
       "    </tr>\n",
       "    <tr>\n",
       "      <td>9805</td>\n",
       "      <td>51209</td>\n",
       "      <td>Fighting Elegy (Kenka erejii) (1966)</td>\n",
       "      <td>Action|Comedy</td>\n",
       "      <td>5.00</td>\n",
       "      <td>1.0</td>\n",
       "    </tr>\n",
       "    <tr>\n",
       "      <td>9911</td>\n",
       "      <td>53355</td>\n",
       "      <td>Sun Alley (Sonnenallee) (1999)</td>\n",
       "      <td>Comedy|Romance</td>\n",
       "      <td>5.00</td>\n",
       "      <td>1.0</td>\n",
       "    </tr>\n",
       "    <tr>\n",
       "      <td>8416</td>\n",
       "      <td>26048</td>\n",
       "      <td>Human Condition II, The (Ningen no joken II) (...</td>\n",
       "      <td>Drama|War</td>\n",
       "      <td>4.75</td>\n",
       "      <td>4.0</td>\n",
       "    </tr>\n",
       "    <tr>\n",
       "      <td>5098</td>\n",
       "      <td>5194</td>\n",
       "      <td>Who's Singin' Over There? (a.k.a. Who Sings Ov...</td>\n",
       "      <td>Comedy</td>\n",
       "      <td>4.75</td>\n",
       "      <td>4.0</td>\n",
       "    </tr>\n",
       "    <tr>\n",
       "      <td>10670</td>\n",
       "      <td>65001</td>\n",
       "      <td>Constantine's Sword (2007)</td>\n",
       "      <td>Documentary</td>\n",
       "      <td>4.75</td>\n",
       "      <td>2.0</td>\n",
       "    </tr>\n",
       "    <tr>\n",
       "      <td>4361</td>\n",
       "      <td>4454</td>\n",
       "      <td>More (1998)</td>\n",
       "      <td>Animation|IMAX|Sci-Fi</td>\n",
       "      <td>4.75</td>\n",
       "      <td>8.0</td>\n",
       "    </tr>\n",
       "    <tr>\n",
       "      <td>8423</td>\n",
       "      <td>26073</td>\n",
       "      <td>Human Condition III, The (Ningen no joken III)...</td>\n",
       "      <td>Drama|War</td>\n",
       "      <td>4.75</td>\n",
       "      <td>4.0</td>\n",
       "    </tr>\n",
       "  </tbody>\n",
       "</table>\n",
       "</div>"
      ],
      "text/plain": [
       "       MovieID                                              Title  \\\n",
       "9408     42783              Shadows of Forgotten Ancestors (1964)   \n",
       "10614    64275           Blue Light, The (Das Blaue Licht) (1932)   \n",
       "9083     33264               Satan's Tango (SÃ¡tÃ¡ntangÃ³) (1994)   \n",
       "9805     51209               Fighting Elegy (Kenka erejii) (1966)   \n",
       "9911     53355                     Sun Alley (Sonnenallee) (1999)   \n",
       "8416     26048  Human Condition II, The (Ningen no joken II) (...   \n",
       "5098      5194  Who's Singin' Over There? (a.k.a. Who Sings Ov...   \n",
       "10670    65001                         Constantine's Sword (2007)   \n",
       "4361      4454                                        More (1998)   \n",
       "8423     26073  Human Condition III, The (Ningen no joken III)...   \n",
       "\n",
       "                       Genre  Mean Rating  Rating Count  \n",
       "9408           Drama|Romance         5.00           1.0  \n",
       "10614  Drama|Fantasy|Mystery         5.00           1.0  \n",
       "9083                   Drama         5.00           2.0  \n",
       "9805           Action|Comedy         5.00           1.0  \n",
       "9911          Comedy|Romance         5.00           1.0  \n",
       "8416               Drama|War         4.75           4.0  \n",
       "5098                  Comedy         4.75           4.0  \n",
       "10670            Documentary         4.75           2.0  \n",
       "4361   Animation|IMAX|Sci-Fi         4.75           8.0  \n",
       "8423               Drama|War         4.75           4.0  "
      ]
     },
     "execution_count": 37,
     "metadata": {},
     "output_type": "execute_result"
    }
   ],
   "source": [
    "movies.sort_values(by = 'Mean Rating',ascending = False).head(10)"
   ]
  },
  {
   "cell_type": "code",
   "execution_count": 38,
   "metadata": {},
   "outputs": [],
   "source": [
    "#just created a function out of it\n",
    "def RecommendByTopRated():\n",
    "    return movies_filtered[['MovieID','Title','Genre','wt_rating']][:20]"
   ]
  },
  {
   "cell_type": "code",
   "execution_count": 39,
   "metadata": {},
   "outputs": [
    {
     "data": {
      "text/html": [
       "<div>\n",
       "<style scoped>\n",
       "    .dataframe tbody tr th:only-of-type {\n",
       "        vertical-align: middle;\n",
       "    }\n",
       "\n",
       "    .dataframe tbody tr th {\n",
       "        vertical-align: top;\n",
       "    }\n",
       "\n",
       "    .dataframe thead th {\n",
       "        text-align: right;\n",
       "    }\n",
       "</style>\n",
       "<table border=\"1\" class=\"dataframe\">\n",
       "  <thead>\n",
       "    <tr style=\"text-align: right;\">\n",
       "      <th></th>\n",
       "      <th>MovieID</th>\n",
       "      <th>Title</th>\n",
       "      <th>Genre</th>\n",
       "      <th>wt_rating</th>\n",
       "    </tr>\n",
       "  </thead>\n",
       "  <tbody>\n",
       "    <tr>\n",
       "      <td>315</td>\n",
       "      <td>318</td>\n",
       "      <td>Shawshank Redemption, The (1994)</td>\n",
       "      <td>Drama</td>\n",
       "      <td>4.420682</td>\n",
       "    </tr>\n",
       "    <tr>\n",
       "      <td>843</td>\n",
       "      <td>858</td>\n",
       "      <td>Godfather, The (1972)</td>\n",
       "      <td>Crime|Drama</td>\n",
       "      <td>4.360473</td>\n",
       "    </tr>\n",
       "    <tr>\n",
       "      <td>49</td>\n",
       "      <td>50</td>\n",
       "      <td>Usual Suspects, The (1995)</td>\n",
       "      <td>Crime|Mystery|Thriller</td>\n",
       "      <td>4.323547</td>\n",
       "    </tr>\n",
       "    <tr>\n",
       "      <td>523</td>\n",
       "      <td>527</td>\n",
       "      <td>Schindler's List (1993)</td>\n",
       "      <td>Drama|War</td>\n",
       "      <td>4.322856</td>\n",
       "    </tr>\n",
       "    <tr>\n",
       "      <td>895</td>\n",
       "      <td>912</td>\n",
       "      <td>Casablanca (1942)</td>\n",
       "      <td>Drama|Romance</td>\n",
       "      <td>4.241994</td>\n",
       "    </tr>\n",
       "    <tr>\n",
       "      <td>1195</td>\n",
       "      <td>1221</td>\n",
       "      <td>Godfather: Part II, The (1974)</td>\n",
       "      <td>Crime|Drama</td>\n",
       "      <td>4.230781</td>\n",
       "    </tr>\n",
       "    <tr>\n",
       "      <td>1169</td>\n",
       "      <td>1193</td>\n",
       "      <td>One Flew Over the Cuckoo's Nest (1975)</td>\n",
       "      <td>Comedy|Drama</td>\n",
       "      <td>4.226041</td>\n",
       "    </tr>\n",
       "    <tr>\n",
       "      <td>1173</td>\n",
       "      <td>1198</td>\n",
       "      <td>Raiders of the Lost Ark (Indiana Jones and the...</td>\n",
       "      <td>Action|Adventure</td>\n",
       "      <td>4.217749</td>\n",
       "    </tr>\n",
       "    <tr>\n",
       "      <td>737</td>\n",
       "      <td>750</td>\n",
       "      <td>Dr. Strangelove or: How I Learned to Stop Worr...</td>\n",
       "      <td>Comedy|War</td>\n",
       "      <td>4.217418</td>\n",
       "    </tr>\n",
       "    <tr>\n",
       "      <td>887</td>\n",
       "      <td>904</td>\n",
       "      <td>Rear Window (1954)</td>\n",
       "      <td>Mystery|Thriller</td>\n",
       "      <td>4.209744</td>\n",
       "    </tr>\n",
       "    <tr>\n",
       "      <td>257</td>\n",
       "      <td>260</td>\n",
       "      <td>Star Wars: Episode IV - A New Hope (a.k.a. Sta...</td>\n",
       "      <td>Action|Adventure|Sci-Fi</td>\n",
       "      <td>4.187923</td>\n",
       "    </tr>\n",
       "    <tr>\n",
       "      <td>587</td>\n",
       "      <td>593</td>\n",
       "      <td>Silence of the Lambs, The (1991)</td>\n",
       "      <td>Crime|Horror|Thriller</td>\n",
       "      <td>4.177103</td>\n",
       "    </tr>\n",
       "    <tr>\n",
       "      <td>2487</td>\n",
       "      <td>2571</td>\n",
       "      <td>Matrix, The (1999)</td>\n",
       "      <td>Action|Sci-Fi|Thriller</td>\n",
       "      <td>4.166289</td>\n",
       "    </tr>\n",
       "    <tr>\n",
       "      <td>1125</td>\n",
       "      <td>1148</td>\n",
       "      <td>Wallace &amp; Gromit: The Wrong Trousers (1993)</td>\n",
       "      <td>Animation|Children|Comedy|Crime</td>\n",
       "      <td>4.162589</td>\n",
       "    </tr>\n",
       "    <tr>\n",
       "      <td>1935</td>\n",
       "      <td>2019</td>\n",
       "      <td>Seven Samurai (Shichinin no samurai) (1954)</td>\n",
       "      <td>Action|Drama</td>\n",
       "      <td>4.158486</td>\n",
       "    </tr>\n",
       "    <tr>\n",
       "      <td>1171</td>\n",
       "      <td>1196</td>\n",
       "      <td>Star Wars: Episode V - The Empire Strikes Back...</td>\n",
       "      <td>Action|Adventure|Sci-Fi</td>\n",
       "      <td>4.155711</td>\n",
       "    </tr>\n",
       "    <tr>\n",
       "      <td>891</td>\n",
       "      <td>908</td>\n",
       "      <td>North by Northwest (1959)</td>\n",
       "      <td>Adventure|Mystery|Thriller</td>\n",
       "      <td>4.155201</td>\n",
       "    </tr>\n",
       "    <tr>\n",
       "      <td>4879</td>\n",
       "      <td>4973</td>\n",
       "      <td>Amelie (Fabuleux destin d'AmÃ©lie Poulain, Le)...</td>\n",
       "      <td>Comedy|Romance</td>\n",
       "      <td>4.154776</td>\n",
       "    </tr>\n",
       "    <tr>\n",
       "      <td>1113</td>\n",
       "      <td>1136</td>\n",
       "      <td>Monty Python and the Holy Grail (1975)</td>\n",
       "      <td>Comedy</td>\n",
       "      <td>4.151428</td>\n",
       "    </tr>\n",
       "    <tr>\n",
       "      <td>2773</td>\n",
       "      <td>2858</td>\n",
       "      <td>American Beauty (1999)</td>\n",
       "      <td>Drama</td>\n",
       "      <td>4.149124</td>\n",
       "    </tr>\n",
       "  </tbody>\n",
       "</table>\n",
       "</div>"
      ],
      "text/plain": [
       "      MovieID                                              Title  \\\n",
       "315       318                   Shawshank Redemption, The (1994)   \n",
       "843       858                              Godfather, The (1972)   \n",
       "49         50                         Usual Suspects, The (1995)   \n",
       "523       527                            Schindler's List (1993)   \n",
       "895       912                                  Casablanca (1942)   \n",
       "1195     1221                     Godfather: Part II, The (1974)   \n",
       "1169     1193             One Flew Over the Cuckoo's Nest (1975)   \n",
       "1173     1198  Raiders of the Lost Ark (Indiana Jones and the...   \n",
       "737       750  Dr. Strangelove or: How I Learned to Stop Worr...   \n",
       "887       904                                 Rear Window (1954)   \n",
       "257       260  Star Wars: Episode IV - A New Hope (a.k.a. Sta...   \n",
       "587       593                   Silence of the Lambs, The (1991)   \n",
       "2487     2571                                 Matrix, The (1999)   \n",
       "1125     1148        Wallace & Gromit: The Wrong Trousers (1993)   \n",
       "1935     2019        Seven Samurai (Shichinin no samurai) (1954)   \n",
       "1171     1196  Star Wars: Episode V - The Empire Strikes Back...   \n",
       "891       908                          North by Northwest (1959)   \n",
       "4879     4973  Amelie (Fabuleux destin d'AmÃ©lie Poulain, Le)...   \n",
       "1113     1136             Monty Python and the Holy Grail (1975)   \n",
       "2773     2858                             American Beauty (1999)   \n",
       "\n",
       "                                Genre  wt_rating  \n",
       "315                             Drama   4.420682  \n",
       "843                       Crime|Drama   4.360473  \n",
       "49             Crime|Mystery|Thriller   4.323547  \n",
       "523                         Drama|War   4.322856  \n",
       "895                     Drama|Romance   4.241994  \n",
       "1195                      Crime|Drama   4.230781  \n",
       "1169                     Comedy|Drama   4.226041  \n",
       "1173                 Action|Adventure   4.217749  \n",
       "737                        Comedy|War   4.217418  \n",
       "887                  Mystery|Thriller   4.209744  \n",
       "257           Action|Adventure|Sci-Fi   4.187923  \n",
       "587             Crime|Horror|Thriller   4.177103  \n",
       "2487           Action|Sci-Fi|Thriller   4.166289  \n",
       "1125  Animation|Children|Comedy|Crime   4.162589  \n",
       "1935                     Action|Drama   4.158486  \n",
       "1171          Action|Adventure|Sci-Fi   4.155711  \n",
       "891        Adventure|Mystery|Thriller   4.155201  \n",
       "4879                   Comedy|Romance   4.154776  \n",
       "1113                           Comedy   4.151428  \n",
       "2773                            Drama   4.149124  "
      ]
     },
     "execution_count": 39,
     "metadata": {},
     "output_type": "execute_result"
    }
   ],
   "source": [
    "RecommendByTopRated()"
   ]
  },
  {
   "cell_type": "markdown",
   "metadata": {},
   "source": [
    "So now we have our top-20 rated movies, but they are still not the movies you might want to watch.\n",
    "\n",
    "Since most popular genre of our dataset was 'Drama' , most of the movies listed here are 'Drama'. Also mysteries, crime are some highly rated genres and thus feature often in recommendations . \n",
    "\n",
    "What if you wanted a different genre, probably animation, or Horror?\n",
    "\n",
    "## Genre Based Recommender\n",
    "\n",
    "To avoid the genre based bias, we create separate recommendations for each genre. We calculate the weighted ratings for movies only belonging to the desired genre, thus keeping the ratings relative."
   ]
  },
  {
   "cell_type": "code",
   "execution_count": 40,
   "metadata": {},
   "outputs": [],
   "source": [
    "#recommender for genre wise recommendations\n",
    "\n",
    "def RecommendByGenre(genre):\n",
    "    sample_space = movies_new[movies_new['Genre']==genre]\n",
    "    p_min = sample_space['Rating Count'].quantile(.80)\n",
    "    r_avg = sample_space['Mean Rating'].mean()\n",
    "    sample_space['wt_rating'] = sample_space.apply(weighted_rating,axis=1,args=[r_avg,p_min])\n",
    "    sample_space = sample_space.sort_values(by='wt_rating',ascending = False)\n",
    "    return sample_space[['MovieID','Title','wt_rating']][:20]\n",
    "    "
   ]
  },
  {
   "cell_type": "code",
   "execution_count": 44,
   "metadata": {},
   "outputs": [
    {
     "data": {
      "text/html": [
       "<div>\n",
       "<style scoped>\n",
       "    .dataframe tbody tr th:only-of-type {\n",
       "        vertical-align: middle;\n",
       "    }\n",
       "\n",
       "    .dataframe tbody tr th {\n",
       "        vertical-align: top;\n",
       "    }\n",
       "\n",
       "    .dataframe thead th {\n",
       "        text-align: right;\n",
       "    }\n",
       "</style>\n",
       "<table border=\"1\" class=\"dataframe\">\n",
       "  <thead>\n",
       "    <tr style=\"text-align: right;\">\n",
       "      <th></th>\n",
       "      <th>MovieID</th>\n",
       "      <th>Title</th>\n",
       "      <th>wt_rating</th>\n",
       "    </tr>\n",
       "  </thead>\n",
       "  <tbody>\n",
       "    <tr>\n",
       "      <td>587</td>\n",
       "      <td>593</td>\n",
       "      <td>Silence of the Lambs, The (1991)</td>\n",
       "      <td>4.171288</td>\n",
       "    </tr>\n",
       "    <tr>\n",
       "      <td>1193</td>\n",
       "      <td>1219</td>\n",
       "      <td>Psycho (1960)</td>\n",
       "      <td>4.000530</td>\n",
       "    </tr>\n",
       "    <tr>\n",
       "      <td>46</td>\n",
       "      <td>47</td>\n",
       "      <td>Seven (a.k.a. Se7en) (1995)</td>\n",
       "      <td>3.988572</td>\n",
       "    </tr>\n",
       "    <tr>\n",
       "      <td>1188</td>\n",
       "      <td>1214</td>\n",
       "      <td>Alien (1979)</td>\n",
       "      <td>3.977802</td>\n",
       "    </tr>\n",
       "    <tr>\n",
       "      <td>1175</td>\n",
       "      <td>1200</td>\n",
       "      <td>Aliens (1986)</td>\n",
       "      <td>3.939718</td>\n",
       "    </tr>\n",
       "    <tr>\n",
       "      <td>1230</td>\n",
       "      <td>1258</td>\n",
       "      <td>Shining, The (1980)</td>\n",
       "      <td>3.924311</td>\n",
       "    </tr>\n",
       "    <tr>\n",
       "      <td>1250</td>\n",
       "      <td>1278</td>\n",
       "      <td>Young Frankenstein (1974)</td>\n",
       "      <td>3.911940</td>\n",
       "    </tr>\n",
       "    <tr>\n",
       "      <td>1356</td>\n",
       "      <td>1387</td>\n",
       "      <td>Jaws (1975)</td>\n",
       "      <td>3.771455</td>\n",
       "    </tr>\n",
       "    <tr>\n",
       "      <td>8170</td>\n",
       "      <td>8874</td>\n",
       "      <td>Shaun of the Dead (2004)</td>\n",
       "      <td>3.707298</td>\n",
       "    </tr>\n",
       "    <tr>\n",
       "      <td>1913</td>\n",
       "      <td>1997</td>\n",
       "      <td>Exorcist, The (1973)</td>\n",
       "      <td>3.662361</td>\n",
       "    </tr>\n",
       "    <tr>\n",
       "      <td>1304</td>\n",
       "      <td>1333</td>\n",
       "      <td>Birds, The (1963)</td>\n",
       "      <td>3.649577</td>\n",
       "    </tr>\n",
       "    <tr>\n",
       "      <td>1233</td>\n",
       "      <td>1261</td>\n",
       "      <td>Evil Dead II (Dead by Dawn) (1987)</td>\n",
       "      <td>3.623850</td>\n",
       "    </tr>\n",
       "    <tr>\n",
       "      <td>1189</td>\n",
       "      <td>1215</td>\n",
       "      <td>Army of Darkness (1993)</td>\n",
       "      <td>3.623815</td>\n",
       "    </tr>\n",
       "    <tr>\n",
       "      <td>3411</td>\n",
       "      <td>3499</td>\n",
       "      <td>Misery (1990)</td>\n",
       "      <td>3.605588</td>\n",
       "    </tr>\n",
       "    <tr>\n",
       "      <td>2204</td>\n",
       "      <td>2288</td>\n",
       "      <td>Thing, The (1982)</td>\n",
       "      <td>3.595639</td>\n",
       "    </tr>\n",
       "    <tr>\n",
       "      <td>1318</td>\n",
       "      <td>1348</td>\n",
       "      <td>Nosferatu (Nosferatu, eine Symphonie des Graue...</td>\n",
       "      <td>3.589528</td>\n",
       "    </tr>\n",
       "    <tr>\n",
       "      <td>2076</td>\n",
       "      <td>2160</td>\n",
       "      <td>Rosemary's Baby (1968)</td>\n",
       "      <td>3.583408</td>\n",
       "    </tr>\n",
       "    <tr>\n",
       "      <td>4627</td>\n",
       "      <td>4720</td>\n",
       "      <td>Others, The (2001)</td>\n",
       "      <td>3.582943</td>\n",
       "    </tr>\n",
       "    <tr>\n",
       "      <td>2563</td>\n",
       "      <td>2648</td>\n",
       "      <td>Frankenstein (1931)</td>\n",
       "      <td>3.565796</td>\n",
       "    </tr>\n",
       "    <tr>\n",
       "      <td>6390</td>\n",
       "      <td>6502</td>\n",
       "      <td>28 Days Later (2002)</td>\n",
       "      <td>3.558947</td>\n",
       "    </tr>\n",
       "  </tbody>\n",
       "</table>\n",
       "</div>"
      ],
      "text/plain": [
       "      MovieID                                              Title  wt_rating\n",
       "587       593                   Silence of the Lambs, The (1991)   4.171288\n",
       "1193     1219                                      Psycho (1960)   4.000530\n",
       "46         47                        Seven (a.k.a. Se7en) (1995)   3.988572\n",
       "1188     1214                                       Alien (1979)   3.977802\n",
       "1175     1200                                      Aliens (1986)   3.939718\n",
       "1230     1258                                Shining, The (1980)   3.924311\n",
       "1250     1278                          Young Frankenstein (1974)   3.911940\n",
       "1356     1387                                        Jaws (1975)   3.771455\n",
       "8170     8874                           Shaun of the Dead (2004)   3.707298\n",
       "1913     1997                               Exorcist, The (1973)   3.662361\n",
       "1304     1333                                  Birds, The (1963)   3.649577\n",
       "1233     1261                 Evil Dead II (Dead by Dawn) (1987)   3.623850\n",
       "1189     1215                            Army of Darkness (1993)   3.623815\n",
       "3411     3499                                      Misery (1990)   3.605588\n",
       "2204     2288                                  Thing, The (1982)   3.595639\n",
       "1318     1348  Nosferatu (Nosferatu, eine Symphonie des Graue...   3.589528\n",
       "2076     2160                             Rosemary's Baby (1968)   3.583408\n",
       "4627     4720                                 Others, The (2001)   3.582943\n",
       "2563     2648                                Frankenstein (1931)   3.565796\n",
       "6390     6502                               28 Days Later (2002)   3.558947"
      ]
     },
     "execution_count": 44,
     "metadata": {},
     "output_type": "execute_result"
    }
   ],
   "source": [
    "'''Adventure', 'Animation', 'Children', 'Comedy', 'Fantasy',\n",
    "       'Romance', 'Drama', 'Action', 'Crime', 'Thriller', 'Horror',\n",
    "       'Mystery', 'Sci-Fi', 'IMAX', 'Documentary', 'War', 'Musical',\n",
    "       'Film-Noir', 'Western', '(no genres listed)'''\n",
    "\n",
    "RecommendByGenre('Horror')"
   ]
  },
  {
   "cell_type": "markdown",
   "metadata": {},
   "source": [
    "Great! Now, we have movie recommendations for each genre, however they are still redundant and ignorant of a user's personal preferances. \n",
    "\n",
    "## Content Based Recommender\n",
    "\n",
    "In this section, we will give recommendations of movies similar to an input movie. To capture these similarities , we will explore the tags dataset. Let's look at some of most popular tags"
   ]
  },
  {
   "cell_type": "code",
   "execution_count": 43,
   "metadata": {},
   "outputs": [
    {
     "data": {
      "text/plain": [
       "<matplotlib.axes._subplots.AxesSubplot at 0x2052a335f08>"
      ]
     },
     "execution_count": 43,
     "metadata": {},
     "output_type": "execute_result"
    },
    {
     "data": {
      "image/png": "[encoded data removed]",
      "text/plain": [
       "<Figure size 432x288 with 1 Axes>"
      ]
     },
     "metadata": {
      "needs_background": "light"
     },
     "output_type": "display_data"
    }
   ],
   "source": [
    "tags['Tag'].value_counts()[:20].plot(kind='bar')"
   ]
  },
  {
   "cell_type": "markdown",
   "metadata": {},
   "source": [
    "Seems like there are many movies 'based on a book' , 'classic' or available on 'tumey's DVDs'. Combining movies having similar tags can result in movies having somewhat similar content.\n",
    "\n",
    "P.S : To be able to have a robust segregation, we needed more data like, movie summary or cast and crew information, but since the data available here is just tags, we will make do with it\n",
    "\n",
    "### Cleaning the tags data\n",
    "\n",
    "Before using tags in our recommenation system , we must preprocess them :\n",
    "\n",
    "- Convert to lowercase and remove punctuation\n",
    "- Apply stemming to tags and convert them into only root words\n",
    "- Remove the tags having rare occurences"
   ]
  },
  {
   "cell_type": "code",
   "execution_count": 45,
   "metadata": {},
   "outputs": [],
   "source": [
    "import string\n",
    "punct = string.punctuation\n",
    "def full_remove(x, removal_list):\n",
    "    \n",
    "    for w in removal_list:\n",
    "        x = x.replace(w,'')\n",
    "    return x"
   ]
  },
  {
   "cell_type": "code",
   "execution_count": 46,
   "metadata": {},
   "outputs": [],
   "source": [
    "tags['clean_tag'] = tags['Tag'].apply(lambda x: x.lower())\n",
    "tags['clean_tag'] = tags['clean_tag'].apply(full_remove,args=[punct])"
   ]
  },
  {
   "cell_type": "code",
   "execution_count": 47,
   "metadata": {},
   "outputs": [
    {
     "data": {
      "text/plain": [
       "<matplotlib.axes._subplots.AxesSubplot at 0x24405158f08>"
      ]
     },
     "execution_count": 47,
     "metadata": {},
     "output_type": "execute_result"
    },
    {
     "data": {
      "image/png": "[encoded data removed]",
      "text/plain": [
       "<Figure size 432x288 with 1 Axes>"
      ]
     },
     "metadata": {
      "needs_background": "light"
     },
     "output_type": "display_data"
    }
   ],
   "source": [
    "tags['clean_tag'].value_counts()[:20].plot(kind = 'bar')"
   ]
  },
  {
   "cell_type": "code",
   "execution_count": 51,
   "metadata": {},
   "outputs": [],
   "source": [
    "stemmer = SnowballStemmer('english')\n",
    "def stem(x):\n",
    "    words = x.split()\n",
    "    w = []\n",
    "    for i in words:\n",
    "        if i.isalnum():\n",
    "            w.append((stemmer.stem(i)))\n",
    "    return ' '.join(w)"
   ]
  },
  {
   "cell_type": "code",
   "execution_count": 52,
   "metadata": {},
   "outputs": [],
   "source": [
    "tags['clean_tag'] = tags['clean_tag'].apply(stem)\n",
    "tags['clean_tags2'] = tags['clean_tag'].apply(lambda x:x.replace(' ',''))"
   ]
  },
  {
   "cell_type": "code",
   "execution_count": 53,
   "metadata": {},
   "outputs": [],
   "source": [
    "ct = tags.groupby(['MovieID'])\n",
    "\n",
    "tgs = ct['clean_tag'].apply(lambda x: list(x.values))\n",
    "tgs = tgs.apply(lambda x: list(set(x)))\n",
    "tgs.name = 'tag_unique'\n",
    "\n",
    "tgs2 = ct['clean_tags2'].apply(lambda x: list(x.values))\n",
    "tgs2 = tgs2.apply(lambda x: list(set(x)))\n",
    "tgs2.name = 'tag_unique2'"
   ]
  },
  {
   "cell_type": "code",
   "execution_count": 54,
   "metadata": {},
   "outputs": [],
   "source": [
    "df = pd.DataFrame(tgs)\n",
    "df = df.join(tgs2)"
   ]
  },
  {
   "cell_type": "code",
   "execution_count": 55,
   "metadata": {},
   "outputs": [
    {
     "data": {
      "text/html": [
       "<div>\n",
       "<style scoped>\n",
       "    .dataframe tbody tr th:only-of-type {\n",
       "        vertical-align: middle;\n",
       "    }\n",
       "\n",
       "    .dataframe tbody tr th {\n",
       "        vertical-align: top;\n",
       "    }\n",
       "\n",
       "    .dataframe thead th {\n",
       "        text-align: right;\n",
       "    }\n",
       "</style>\n",
       "<table border=\"1\" class=\"dataframe\">\n",
       "  <thead>\n",
       "    <tr style=\"text-align: right;\">\n",
       "      <th></th>\n",
       "      <th>tag_unique</th>\n",
       "      <th>tag_unique2</th>\n",
       "    </tr>\n",
       "    <tr>\n",
       "      <th>MovieID</th>\n",
       "      <th></th>\n",
       "      <th></th>\n",
       "    </tr>\n",
       "  </thead>\n",
       "  <tbody>\n",
       "    <tr>\n",
       "      <td>1</td>\n",
       "      <td>[humor, , clever, want, toy come to life, rous...</td>\n",
       "      <td>[humor, , clever, erlenddvds, want, rous, tima...</td>\n",
       "    </tr>\n",
       "    <tr>\n",
       "      <td>2</td>\n",
       "      <td>[monkey, for children, see alsozathura, time, ...</td>\n",
       "      <td>[monkey, childhoodrecaptur, time, saturnawardb...</td>\n",
       "    </tr>\n",
       "    <tr>\n",
       "      <td>3</td>\n",
       "      <td>[grun run, moldi, sequel fever, comedinha de v...</td>\n",
       "      <td>[jacklemmon, moldi, comedinhadevelhinho, funni...</td>\n",
       "    </tr>\n",
       "    <tr>\n",
       "      <td>4</td>\n",
       "      <td>[girl movi]</td>\n",
       "      <td>[girlmovi]</td>\n",
       "    </tr>\n",
       "    <tr>\n",
       "      <td>5</td>\n",
       "      <td>[fantasi, remak, sequel fever, sequel, childho...</td>\n",
       "      <td>[fantasi, remak, sequel, worstmoviever, childh...</td>\n",
       "    </tr>\n",
       "  </tbody>\n",
       "</table>\n",
       "</div>"
      ],
      "text/plain": [
       "                                                tag_unique  \\\n",
       "MovieID                                                      \n",
       "1        [humor, , clever, want, toy come to life, rous...   \n",
       "2        [monkey, for children, see alsozathura, time, ...   \n",
       "3        [grun run, moldi, sequel fever, comedinha de v...   \n",
       "4                                              [girl movi]   \n",
       "5        [fantasi, remak, sequel fever, sequel, childho...   \n",
       "\n",
       "                                               tag_unique2  \n",
       "MovieID                                                     \n",
       "1        [humor, , clever, erlenddvds, want, rous, tima...  \n",
       "2        [monkey, childhoodrecaptur, time, saturnawardb...  \n",
       "3        [jacklemmon, moldi, comedinhadevelhinho, funni...  \n",
       "4                                               [girlmovi]  \n",
       "5        [fantasi, remak, sequel, worstmoviever, childh...  "
      ]
     },
     "execution_count": 55,
     "metadata": {},
     "output_type": "execute_result"
    }
   ],
   "source": [
    "df.head()"
   ]
  },
  {
   "cell_type": "code",
   "execution_count": 56,
   "metadata": {},
   "outputs": [],
   "source": [
    "tags_set = df.apply(lambda x: pd.Series(x['tag_unique']),axis=1).stack().reset_index(level=1, drop=True)"
   ]
  },
  {
   "cell_type": "code",
   "execution_count": 57,
   "metadata": {},
   "outputs": [
    {
     "name": "stdout",
     "output_type": "stream",
     "text": [
      "Capping at: 3.0\n"
     ]
    }
   ],
   "source": [
    "tags_set = tags_set.value_counts()\n",
    "min_v = tags_set.quantile(.80)\n",
    "print('Capping at:',min_v)\n",
    "tags_set = tags_set[tags_set>min_v]"
   ]
  },
  {
   "cell_type": "code",
   "execution_count": 58,
   "metadata": {},
   "outputs": [],
   "source": [
    "tags_set2 = df.apply(lambda x: pd.Series(x['tag_unique2']),axis=1).stack().reset_index(level=1, drop=True)"
   ]
  },
  {
   "cell_type": "code",
   "execution_count": 59,
   "metadata": {},
   "outputs": [
    {
     "name": "stdout",
     "output_type": "stream",
     "text": [
      "Capping at: 3.0\n"
     ]
    }
   ],
   "source": [
    "tags_set2 = tags_set2.value_counts()\n",
    "min_v2 = tags_set2.quantile(.80)\n",
    "print('Capping at:',min_v2)\n",
    "tags_set2= tags_set2[tags_set2>min_v2]"
   ]
  },
  {
   "cell_type": "code",
   "execution_count": 60,
   "metadata": {},
   "outputs": [],
   "source": [
    "def filter(x,tags_set):\n",
    "    lis = []\n",
    "    for i in x:\n",
    "        if i in tags_set:\n",
    "            lis.append(i)\n",
    "    return lis"
   ]
  },
  {
   "cell_type": "code",
   "execution_count": 61,
   "metadata": {},
   "outputs": [],
   "source": [
    "df['tag_unique'] = df['tag_unique'].apply(filter,args=[tags_set])\n",
    "df['tag_unique2'] = df['tag_unique2'].apply(filter,args=[tags_set2])"
   ]
  },
  {
   "cell_type": "markdown",
   "metadata": {},
   "source": [
    "As we have our list of filtered tags mapped to Movie-Ids , let's join it with movies dataset."
   ]
  },
  {
   "cell_type": "code",
   "execution_count": 81,
   "metadata": {},
   "outputs": [],
   "source": [
    "filtered_movies_tag = movies.join(df,on='MovieID')"
   ]
  },
  {
   "cell_type": "code",
   "execution_count": 82,
   "metadata": {},
   "outputs": [],
   "source": [
    "filtered_movies_tag['tag_unique'] = filtered_movies_tag['tag_unique'].fillna('')\n",
    "filtered_movies_tag['tag_unique2'] = filtered_movies_tag['tag_unique2'].fillna('')"
   ]
  },
  {
   "cell_type": "code",
   "execution_count": 83,
   "metadata": {},
   "outputs": [],
   "source": [
    "filtered_movies_tag['tag_unique'] = [i if isinstance(i, list) else [] for i in filtered_movies_tag['tag_unique']]\n",
    "filtered_movies_tag['tag_unique2'] = [i if isinstance(i, list) else [] for i in filtered_movies_tag['tag_unique2']]"
   ]
  },
  {
   "cell_type": "code",
   "execution_count": 84,
   "metadata": {},
   "outputs": [],
   "source": [
    "filtered_movies_tag['Genre'] = filtered_movies_tag['Genre'].apply(lambda x:x.split('|'))"
   ]
  },
  {
   "cell_type": "markdown",
   "metadata": {},
   "source": [
    "To compute the similarity, we will also include genres to our list of features.\n",
    "\n",
    "### Computing Similarity\n",
    "\n",
    "- Use a count vectorizer to create a count matrix for words in features_mix, and each row representing each movie\n",
    "- Using cosine similarity function (dot product) , compute the similarities between each pair of movies, making a similarity matrix\n",
    "- Similarity score at i, j in similarity matrix represents how close movies at index i and j are to each other "
   ]
  },
  {
   "cell_type": "code",
   "execution_count": 85,
   "metadata": {},
   "outputs": [],
   "source": [
    "filtered_movies_tag['features_mix'] = filtered_movies_tag['tag_unique']+filtered_movies_tag['Genre']\n",
    "filtered_movies_tag['features_mix'] = filtered_movies_tag['features_mix'].apply(lambda x: ' '.join(x))"
   ]
  },
  {
   "cell_type": "code",
   "execution_count": 86,
   "metadata": {},
   "outputs": [
    {
     "data": {
      "text/html": [
       "<div>\n",
       "<style scoped>\n",
       "    .dataframe tbody tr th:only-of-type {\n",
       "        vertical-align: middle;\n",
       "    }\n",
       "\n",
       "    .dataframe tbody tr th {\n",
       "        vertical-align: top;\n",
       "    }\n",
       "\n",
       "    .dataframe thead th {\n",
       "        text-align: right;\n",
       "    }\n",
       "</style>\n",
       "<table border=\"1\" class=\"dataframe\">\n",
       "  <thead>\n",
       "    <tr style=\"text-align: right;\">\n",
       "      <th></th>\n",
       "      <th>MovieID</th>\n",
       "      <th>Title</th>\n",
       "      <th>Genre</th>\n",
       "      <th>Mean Rating</th>\n",
       "      <th>Rating Count</th>\n",
       "      <th>tag_unique</th>\n",
       "      <th>tag_unique2</th>\n",
       "      <th>features_mix</th>\n",
       "    </tr>\n",
       "  </thead>\n",
       "  <tbody>\n",
       "    <tr>\n",
       "      <td>0</td>\n",
       "      <td>1</td>\n",
       "      <td>Toy Story (1995)</td>\n",
       "      <td>[Adventure, Animation, Children, Comedy, Fantasy]</td>\n",
       "      <td>3.928769</td>\n",
       "      <td>26449.0</td>\n",
       "      <td>[humor, , clever, want, rous, disney anim feat...</td>\n",
       "      <td>[humor, , clever, erlenddvds, want, rous, tima...</td>\n",
       "      <td>humor  clever want rous disney anim featur tom...</td>\n",
       "    </tr>\n",
       "    <tr>\n",
       "      <td>1</td>\n",
       "      <td>2</td>\n",
       "      <td>Jumanji (1995)</td>\n",
       "      <td>[Adventure, Children, Fantasy]</td>\n",
       "      <td>3.208070</td>\n",
       "      <td>12032.0</td>\n",
       "      <td>[monkey, time, robin william, anim, scari, fan...</td>\n",
       "      <td>[monkey, time, saturnawardbestspecialeffect, a...</td>\n",
       "      <td>monkey time robin william anim scari fantasi s...</td>\n",
       "    </tr>\n",
       "    <tr>\n",
       "      <td>2</td>\n",
       "      <td>3</td>\n",
       "      <td>Grumpier Old Men (1995)</td>\n",
       "      <td>[Comedy, Romance]</td>\n",
       "      <td>3.150385</td>\n",
       "      <td>7790.0</td>\n",
       "      <td>[sequel fever, jack lemmon, funniest movi, wal...</td>\n",
       "      <td>[jacklemmon, funniestmovi, sequelfever, old, w...</td>\n",
       "      <td>sequel fever jack lemmon funniest movi walter ...</td>\n",
       "    </tr>\n",
       "    <tr>\n",
       "      <td>3</td>\n",
       "      <td>4</td>\n",
       "      <td>Waiting to Exhale (1995)</td>\n",
       "      <td>[Comedy, Drama, Romance]</td>\n",
       "      <td>2.860544</td>\n",
       "      <td>1764.0</td>\n",
       "      <td>[]</td>\n",
       "      <td>[]</td>\n",
       "      <td>Comedy Drama Romance</td>\n",
       "    </tr>\n",
       "    <tr>\n",
       "      <td>4</td>\n",
       "      <td>5</td>\n",
       "      <td>Father of the Bride Part II (1995)</td>\n",
       "      <td>[Comedy]</td>\n",
       "      <td>3.077435</td>\n",
       "      <td>7135.0</td>\n",
       "      <td>[fantasi, remak, sequel fever, sequel, childho...</td>\n",
       "      <td>[fantasi, remak, sequel, worstmoviever, childh...</td>\n",
       "      <td>fantasi remak sequel fever sequel childhood cl...</td>\n",
       "    </tr>\n",
       "  </tbody>\n",
       "</table>\n",
       "</div>"
      ],
      "text/plain": [
       "   MovieID                               Title  \\\n",
       "0        1                    Toy Story (1995)   \n",
       "1        2                      Jumanji (1995)   \n",
       "2        3             Grumpier Old Men (1995)   \n",
       "3        4            Waiting to Exhale (1995)   \n",
       "4        5  Father of the Bride Part II (1995)   \n",
       "\n",
       "                                               Genre  Mean Rating  \\\n",
       "0  [Adventure, Animation, Children, Comedy, Fantasy]     3.928769   \n",
       "1                     [Adventure, Children, Fantasy]     3.208070   \n",
       "2                                  [Comedy, Romance]     3.150385   \n",
       "3                           [Comedy, Drama, Romance]     2.860544   \n",
       "4                                           [Comedy]     3.077435   \n",
       "\n",
       "   Rating Count                                         tag_unique  \\\n",
       "0       26449.0  [humor, , clever, want, rous, disney anim feat...   \n",
       "1       12032.0  [monkey, time, robin william, anim, scari, fan...   \n",
       "2        7790.0  [sequel fever, jack lemmon, funniest movi, wal...   \n",
       "3        1764.0                                                 []   \n",
       "4        7135.0  [fantasi, remak, sequel fever, sequel, childho...   \n",
       "\n",
       "                                         tag_unique2  \\\n",
       "0  [humor, , clever, erlenddvds, want, rous, tima...   \n",
       "1  [monkey, time, saturnawardbestspecialeffect, a...   \n",
       "2  [jacklemmon, funniestmovi, sequelfever, old, w...   \n",
       "3                                                 []   \n",
       "4  [fantasi, remak, sequel, worstmoviever, childh...   \n",
       "\n",
       "                                        features_mix  \n",
       "0  humor  clever want rous disney anim featur tom...  \n",
       "1  monkey time robin william anim scari fantasi s...  \n",
       "2  sequel fever jack lemmon funniest movi walter ...  \n",
       "3                               Comedy Drama Romance  \n",
       "4  fantasi remak sequel fever sequel childhood cl...  "
      ]
     },
     "execution_count": 86,
     "metadata": {},
     "output_type": "execute_result"
    }
   ],
   "source": [
    "filtered_movies_tag.head()"
   ]
  },
  {
   "cell_type": "code",
   "execution_count": 87,
   "metadata": {},
   "outputs": [],
   "source": [
    "counter = CountVectorizer(analyzer='word',ngram_range=(1, 2),min_df=0, stop_words='english')\n",
    "count_matrix = counter.fit_transform(filtered_movies_tag['features_mix'])"
   ]
  },
  {
   "cell_type": "code",
   "execution_count": 88,
   "metadata": {},
   "outputs": [
    {
     "data": {
      "text/plain": [
       "(10680, (10680, 40868))"
      ]
     },
     "execution_count": 88,
     "metadata": {},
     "output_type": "execute_result"
    }
   ],
   "source": [
    "len(filtered_movies_tag) , count_matrix.shape"
   ]
  },
  {
   "cell_type": "code",
   "execution_count": 89,
   "metadata": {},
   "outputs": [],
   "source": [
    "sim_matrix = cosine_similarity(count_matrix, count_matrix)"
   ]
  },
  {
   "cell_type": "code",
   "execution_count": 90,
   "metadata": {},
   "outputs": [
    {
     "data": {
      "text/plain": [
       "(10680, 10680)"
      ]
     },
     "execution_count": 90,
     "metadata": {},
     "output_type": "execute_result"
    }
   ],
   "source": [
    "sim_matrix.shape"
   ]
  },
  {
   "cell_type": "code",
   "execution_count": 91,
   "metadata": {},
   "outputs": [],
   "source": [
    "filtered_movies_tag = filtered_movies_tag.reset_index()\n",
    "titles = filtered_movies_tag['Title']\n",
    "indices = pd.Series(filtered_movies_tag.index, index=filtered_movies_tag['Title'])"
   ]
  },
  {
   "cell_type": "markdown",
   "metadata": {},
   "source": [
    "Our recommender takes a movie as an input and reports its top-50 similar movies. To ensure qualtiy recommendations , we again calculate the weighted ratings in these 50 movies and report the top-20 rated movies, ensuring both quality and similarity.\n",
    "\n",
    "Let's see it at work."
   ]
  },
  {
   "cell_type": "code",
   "execution_count": 94,
   "metadata": {},
   "outputs": [],
   "source": [
    "def RecommendByMovie(title):\n",
    "    idx = indices[title]\n",
    "    sim_score = list(enumerate(sim_matrix[idx]))\n",
    "    sim_score = sorted(sim_score, key=lambda x: x[1], reverse=True)\n",
    "    sim_score = sim_score[1:50]\n",
    "    movie_indices = [i[0] for i in sim_score]\n",
    "    \n",
    "    sample_space = filtered_movies_tag[['Title','MovieID','Rating Count','Mean Rating']].iloc[movie_indices]\n",
    "    p_min = sample_space['Rating Count'].quantile(.50)\n",
    "    r_avg = sample_space['Mean Rating'].mean()\n",
    "    sample_space['wt_rating'] = sample_space.apply(weighted_rating,axis=1,args=[r_avg,p_min])\n",
    "    sample_space = sample_space.sort_values(by='wt_rating',ascending = False)\n",
    "    return sample_space[['MovieID','Title','wt_rating']][:20]\n",
    "    \n",
    "    #return movies_filtered[['Title','wt_rating']].iloc[movie_indices]"
   ]
  },
  {
   "cell_type": "code",
   "execution_count": 95,
   "metadata": {},
   "outputs": [
    {
     "data": {
      "text/html": [
       "<div>\n",
       "<style scoped>\n",
       "    .dataframe tbody tr th:only-of-type {\n",
       "        vertical-align: middle;\n",
       "    }\n",
       "\n",
       "    .dataframe tbody tr th {\n",
       "        vertical-align: top;\n",
       "    }\n",
       "\n",
       "    .dataframe thead th {\n",
       "        text-align: right;\n",
       "    }\n",
       "</style>\n",
       "<table border=\"1\" class=\"dataframe\">\n",
       "  <thead>\n",
       "    <tr style=\"text-align: right;\">\n",
       "      <th></th>\n",
       "      <th>MovieID</th>\n",
       "      <th>Title</th>\n",
       "      <th>wt_rating</th>\n",
       "    </tr>\n",
       "  </thead>\n",
       "  <tbody>\n",
       "    <tr>\n",
       "      <td>9126</td>\n",
       "      <td>33794</td>\n",
       "      <td>Batman Begins (2005)</td>\n",
       "      <td>3.876729</td>\n",
       "    </tr>\n",
       "    <tr>\n",
       "      <td>5253</td>\n",
       "      <td>5349</td>\n",
       "      <td>Spider-Man (2002)</td>\n",
       "      <td>3.583309</td>\n",
       "    </tr>\n",
       "    <tr>\n",
       "      <td>9246</td>\n",
       "      <td>37733</td>\n",
       "      <td>History of Violence, A (2005)</td>\n",
       "      <td>3.435564</td>\n",
       "    </tr>\n",
       "    <tr>\n",
       "      <td>586</td>\n",
       "      <td>592</td>\n",
       "      <td>Batman (1989)</td>\n",
       "      <td>3.376878</td>\n",
       "    </tr>\n",
       "    <tr>\n",
       "      <td>2556</td>\n",
       "      <td>2640</td>\n",
       "      <td>Superman (1978)</td>\n",
       "      <td>3.359335</td>\n",
       "    </tr>\n",
       "    <tr>\n",
       "      <td>3128</td>\n",
       "      <td>3213</td>\n",
       "      <td>Batman: Mask of the Phantasm (1993)</td>\n",
       "      <td>3.260346</td>\n",
       "    </tr>\n",
       "    <tr>\n",
       "      <td>8899</td>\n",
       "      <td>31696</td>\n",
       "      <td>Constantine (2005)</td>\n",
       "      <td>3.202085</td>\n",
       "    </tr>\n",
       "    <tr>\n",
       "      <td>10311</td>\n",
       "      <td>60040</td>\n",
       "      <td>Incredible Hulk, The (2008)</td>\n",
       "      <td>3.162662</td>\n",
       "    </tr>\n",
       "    <tr>\n",
       "      <td>9552</td>\n",
       "      <td>46530</td>\n",
       "      <td>Superman Returns (2006)</td>\n",
       "      <td>3.123738</td>\n",
       "    </tr>\n",
       "    <tr>\n",
       "      <td>2557</td>\n",
       "      <td>2641</td>\n",
       "      <td>Superman II (1980)</td>\n",
       "      <td>3.093244</td>\n",
       "    </tr>\n",
       "    <tr>\n",
       "      <td>979</td>\n",
       "      <td>998</td>\n",
       "      <td>Set It Off (1996)</td>\n",
       "      <td>3.033072</td>\n",
       "    </tr>\n",
       "    <tr>\n",
       "      <td>9877</td>\n",
       "      <td>52722</td>\n",
       "      <td>Spider-Man 3 (2007)</td>\n",
       "      <td>3.002332</td>\n",
       "    </tr>\n",
       "    <tr>\n",
       "      <td>10266</td>\n",
       "      <td>59369</td>\n",
       "      <td>Taken (2008)</td>\n",
       "      <td>2.974980</td>\n",
       "    </tr>\n",
       "    <tr>\n",
       "      <td>8456</td>\n",
       "      <td>26152</td>\n",
       "      <td>Batman (1966)</td>\n",
       "      <td>2.963947</td>\n",
       "    </tr>\n",
       "    <tr>\n",
       "      <td>7309</td>\n",
       "      <td>7439</td>\n",
       "      <td>Punisher, The (2004)</td>\n",
       "      <td>2.946472</td>\n",
       "    </tr>\n",
       "    <tr>\n",
       "      <td>529</td>\n",
       "      <td>533</td>\n",
       "      <td>Shadow, The (1994)</td>\n",
       "      <td>2.933768</td>\n",
       "    </tr>\n",
       "    <tr>\n",
       "      <td>6694</td>\n",
       "      <td>6806</td>\n",
       "      <td>Time and Tide (Seunlau Ngaklau) (2000)</td>\n",
       "      <td>2.925588</td>\n",
       "    </tr>\n",
       "    <tr>\n",
       "      <td>7356</td>\n",
       "      <td>7562</td>\n",
       "      <td>Dobermann (1997)</td>\n",
       "      <td>2.924555</td>\n",
       "    </tr>\n",
       "    <tr>\n",
       "      <td>151</td>\n",
       "      <td>153</td>\n",
       "      <td>Batman Forever (1995)</td>\n",
       "      <td>2.914682</td>\n",
       "    </tr>\n",
       "    <tr>\n",
       "      <td>475</td>\n",
       "      <td>479</td>\n",
       "      <td>Judgment Night (1993)</td>\n",
       "      <td>2.897614</td>\n",
       "    </tr>\n",
       "  </tbody>\n",
       "</table>\n",
       "</div>"
      ],
      "text/plain": [
       "       MovieID                                   Title  wt_rating\n",
       "9126     33794                    Batman Begins (2005)   3.876729\n",
       "5253      5349                       Spider-Man (2002)   3.583309\n",
       "9246     37733           History of Violence, A (2005)   3.435564\n",
       "586        592                           Batman (1989)   3.376878\n",
       "2556      2640                         Superman (1978)   3.359335\n",
       "3128      3213     Batman: Mask of the Phantasm (1993)   3.260346\n",
       "8899     31696                      Constantine (2005)   3.202085\n",
       "10311    60040             Incredible Hulk, The (2008)   3.162662\n",
       "9552     46530                 Superman Returns (2006)   3.123738\n",
       "2557      2641                      Superman II (1980)   3.093244\n",
       "979        998                       Set It Off (1996)   3.033072\n",
       "9877     52722                     Spider-Man 3 (2007)   3.002332\n",
       "10266    59369                            Taken (2008)   2.974980\n",
       "8456     26152                           Batman (1966)   2.963947\n",
       "7309      7439                    Punisher, The (2004)   2.946472\n",
       "529        533                      Shadow, The (1994)   2.933768\n",
       "6694      6806  Time and Tide (Seunlau Ngaklau) (2000)   2.925588\n",
       "7356      7562                        Dobermann (1997)   2.924555\n",
       "151        153                   Batman Forever (1995)   2.914682\n",
       "475        479                   Judgment Night (1993)   2.897614"
      ]
     },
     "execution_count": 95,
     "metadata": {},
     "output_type": "execute_result"
    }
   ],
   "source": [
    "RecommendByMovie('Batman Returns (1992)')"
   ]
  },
  {
   "cell_type": "markdown",
   "metadata": {},
   "source": [
    "## Step 5 : Collaborative Filtering\n",
    "\n",
    "Collaborative filtering explores relationship between users and their product choices. Remember those 'other users have also bought' recommendations on e-commerce sites, it's one of its examples. \n",
    "\n",
    "It fills a sparse user-product matrix (mostly using singular value decomposition (SVD) ) allowing us to factor in the similarities between the users in our predictions. \n",
    "\n",
    "- In our problem, it will be predicting ratings for an un-rated movie for user A, based on the ratings of that movie given by other users who resemble A's behaviour. \n",
    "\n",
    "- We will be using Surprise Library , which is primarily dedicated to building and analyzing recommender systems.\n",
    "\n",
    "- To choose a prediction algorithm, we will perform a cross validation on a sampled User-Ratings data, and will select the algorithm with least RMSE (root mean squared error) on test set "
   ]
  },
  {
   "cell_type": "code",
   "execution_count": 97,
   "metadata": {},
   "outputs": [],
   "source": [
    "#Collaborative Filtering"
   ]
  },
  {
   "cell_type": "code",
   "execution_count": 98,
   "metadata": {},
   "outputs": [],
   "source": [
    "#to convert the dataframe into dataset\n",
    "reader = Reader()"
   ]
  },
  {
   "cell_type": "code",
   "execution_count": 99,
   "metadata": {},
   "outputs": [],
   "source": [
    "#sampling data for cross validation\n",
    "sample = ratings.sample(n=20000)"
   ]
  },
  {
   "cell_type": "code",
   "execution_count": 100,
   "metadata": {},
   "outputs": [],
   "source": [
    "data = Dataset.load_from_df(sample[['UserID','MovieID','Rating']],reader)"
   ]
  },
  {
   "cell_type": "code",
   "execution_count": 101,
   "metadata": {},
   "outputs": [
    {
     "name": "stdout",
     "output_type": "stream",
     "text": [
      "Estimating biases using als...\n",
      "Computing the msd similarity matrix...\n",
      "Done computing similarity matrix.\n",
      "Estimating biases using als...\n",
      "Computing the msd similarity matrix...\n",
      "Done computing similarity matrix.\n",
      "Estimating biases using als...\n",
      "Computing the msd similarity matrix...\n",
      "Done computing similarity matrix.\n",
      "Computing the msd similarity matrix...\n",
      "Done computing similarity matrix.\n",
      "Computing the msd similarity matrix...\n",
      "Done computing similarity matrix.\n",
      "Computing the msd similarity matrix...\n",
      "Done computing similarity matrix.\n",
      "Computing the msd similarity matrix...\n",
      "Done computing similarity matrix.\n",
      "Computing the msd similarity matrix...\n",
      "Done computing similarity matrix.\n",
      "Computing the msd similarity matrix...\n",
      "Done computing similarity matrix.\n",
      "Computing the msd similarity matrix...\n",
      "Done computing similarity matrix.\n",
      "Computing the msd similarity matrix...\n",
      "Done computing similarity matrix.\n",
      "Computing the msd similarity matrix...\n",
      "Done computing similarity matrix.\n",
      "Estimating biases using als...\n",
      "Estimating biases using als...\n",
      "Estimating biases using als...\n"
     ]
    },
    {
     "data": {
      "text/html": [
       "<div>\n",
       "<style scoped>\n",
       "    .dataframe tbody tr th:only-of-type {\n",
       "        vertical-align: middle;\n",
       "    }\n",
       "\n",
       "    .dataframe tbody tr th {\n",
       "        vertical-align: top;\n",
       "    }\n",
       "\n",
       "    .dataframe thead th {\n",
       "        text-align: right;\n",
       "    }\n",
       "</style>\n",
       "<table border=\"1\" class=\"dataframe\">\n",
       "  <thead>\n",
       "    <tr style=\"text-align: right;\">\n",
       "      <th></th>\n",
       "      <th>test_rmse</th>\n",
       "      <th>fit_time</th>\n",
       "      <th>test_time</th>\n",
       "    </tr>\n",
       "    <tr>\n",
       "      <th>Algorithm</th>\n",
       "      <th></th>\n",
       "      <th></th>\n",
       "      <th></th>\n",
       "    </tr>\n",
       "  </thead>\n",
       "  <tbody>\n",
       "    <tr>\n",
       "      <td>SVDpp</td>\n",
       "      <td>1.007867</td>\n",
       "      <td>1.477013</td>\n",
       "      <td>0.104743</td>\n",
       "    </tr>\n",
       "    <tr>\n",
       "      <td>SVD</td>\n",
       "      <td>1.009243</td>\n",
       "      <td>0.867066</td>\n",
       "      <td>0.057841</td>\n",
       "    </tr>\n",
       "    <tr>\n",
       "      <td>BaselineOnly</td>\n",
       "      <td>1.009851</td>\n",
       "      <td>0.087856</td>\n",
       "      <td>0.030567</td>\n",
       "    </tr>\n",
       "    <tr>\n",
       "      <td>KNNBaseline</td>\n",
       "      <td>1.010730</td>\n",
       "      <td>2.520991</td>\n",
       "      <td>0.085576</td>\n",
       "    </tr>\n",
       "    <tr>\n",
       "      <td>KNNBasic</td>\n",
       "      <td>1.058859</td>\n",
       "      <td>2.653482</td>\n",
       "      <td>0.227369</td>\n",
       "    </tr>\n",
       "    <tr>\n",
       "      <td>KNNWithZScore</td>\n",
       "      <td>1.139002</td>\n",
       "      <td>2.860078</td>\n",
       "      <td>0.132398</td>\n",
       "    </tr>\n",
       "    <tr>\n",
       "      <td>NMF</td>\n",
       "      <td>1.139308</td>\n",
       "      <td>1.763945</td>\n",
       "      <td>0.034484</td>\n",
       "    </tr>\n",
       "    <tr>\n",
       "      <td>SlopeOne</td>\n",
       "      <td>1.140570</td>\n",
       "      <td>0.286007</td>\n",
       "      <td>0.056594</td>\n",
       "    </tr>\n",
       "    <tr>\n",
       "      <td>KNNWithMeans</td>\n",
       "      <td>1.140787</td>\n",
       "      <td>2.875875</td>\n",
       "      <td>0.112560</td>\n",
       "    </tr>\n",
       "    <tr>\n",
       "      <td>CoClustering</td>\n",
       "      <td>1.146188</td>\n",
       "      <td>2.542665</td>\n",
       "      <td>0.055292</td>\n",
       "    </tr>\n",
       "    <tr>\n",
       "      <td>NormalPredictor</td>\n",
       "      <td>1.432852</td>\n",
       "      <td>0.060187</td>\n",
       "      <td>0.041656</td>\n",
       "    </tr>\n",
       "  </tbody>\n",
       "</table>\n",
       "</div>"
      ],
      "text/plain": [
       "                 test_rmse  fit_time  test_time\n",
       "Algorithm                                      \n",
       "SVDpp             1.007867  1.477013   0.104743\n",
       "SVD               1.009243  0.867066   0.057841\n",
       "BaselineOnly      1.009851  0.087856   0.030567\n",
       "KNNBaseline       1.010730  2.520991   0.085576\n",
       "KNNBasic          1.058859  2.653482   0.227369\n",
       "KNNWithZScore     1.139002  2.860078   0.132398\n",
       "NMF               1.139308  1.763945   0.034484\n",
       "SlopeOne          1.140570  0.286007   0.056594\n",
       "KNNWithMeans      1.140787  2.875875   0.112560\n",
       "CoClustering      1.146188  2.542665   0.055292\n",
       "NormalPredictor   1.432852  0.060187   0.041656"
      ]
     },
     "execution_count": 101,
     "metadata": {},
     "output_type": "execute_result"
    }
   ],
   "source": [
    "#Choose from the similarity algorithms present using cross validation and then comparing the accuracy\n",
    "benchmark = []\n",
    "# Iterate over all algorithms\n",
    "for algorithm in [SVD(), SVDpp(), SlopeOne(), NMF(), NormalPredictor(), KNNBaseline(), KNNBasic(), KNNWithMeans(), KNNWithZScore(), BaselineOnly(), CoClustering()]:\n",
    "    # Perform cross validation\n",
    "    results = cross_validate(algorithm, data, measures=['RMSE'], cv=3,verbose=False)\n",
    "    # Get results & append algorithm name\n",
    "    tmp = pd.DataFrame.from_dict(results).mean(axis=0)\n",
    "    tmp = tmp.append(pd.Series([str(algorithm).split(' ')[0].split('.')[-1]], index=['Algorithm']))\n",
    "    benchmark.append(tmp)\n",
    "    \n",
    "pd.DataFrame(benchmark).set_index('Algorithm').sort_values('test_rmse')    "
   ]
  },
  {
   "cell_type": "markdown",
   "metadata": {},
   "source": [
    "SVDpp gives us the best accuracy and thus we will model the rest of our data over it\n",
    "\n",
    "### Running SVDpp\n",
    "\n",
    "- Convert the **ratings dataframe** to dataset object\n",
    "- Split the dataset into train and test datasets\n",
    "- Fit the model over train-set and get predictions and accuracy for test-set"
   ]
  },
  {
   "cell_type": "code",
   "execution_count": 106,
   "metadata": {},
   "outputs": [],
   "source": [
    "# SVDpp gives us the best test acccuracy and thus we will model rest of the data over it\n",
    "ratings_data = Dataset.load_from_df(ratings[['UserID','MovieID','Rating']],reader)"
   ]
  },
  {
   "cell_type": "code",
   "execution_count": 108,
   "metadata": {},
   "outputs": [],
   "source": [
    "#split the data into test and train set to check model accuracy\n",
    "train, test = train_test_split(ratings_data, test_size=.3)"
   ]
  },
  {
   "cell_type": "code",
   "execution_count": null,
   "metadata": {},
   "outputs": [],
   "source": [
    "model = SVDpp()\n",
    "model.fit(train)"
   ]
  },
  {
   "cell_type": "code",
   "execution_count": null,
   "metadata": {},
   "outputs": [],
   "source": [
    "predictions = model.test(test)\n",
    "print(accuracy.rmse(predictions))   #rmse accuracy for the model"
   ]
  },
  {
   "cell_type": "code",
   "execution_count": null,
   "metadata": {},
   "outputs": [],
   "source": [
    "predicted_rating = [i.est for i in predictions]"
   ]
  },
  {
   "cell_type": "code",
   "execution_count": null,
   "metadata": {},
   "outputs": [],
   "source": [
    "test_set = pd.DataFrame(test,columns=['UserID','MovieID',\"Rating\"])\n",
    "test_set['Predicted Rating'] = predicted_rating"
   ]
  },
  {
   "cell_type": "code",
   "execution_count": null,
   "metadata": {},
   "outputs": [],
   "source": [
    "#Comparison of actual and predicted ratings for test set\n",
    "test_set.head(10)"
   ]
  },
  {
   "cell_type": "markdown",
   "metadata": {},
   "source": [
    "## User Based Recommender\n",
    "\n",
    "We will make two kinds of recommenders:\n",
    "\n",
    "1. Top-User Rated :\n",
    "    - Take in the UserID as Input.\n",
    "    - Fetch the user's ratings (predicted/given) of all the movies\n",
    "    - Report top-20 rated movies\n",
    "\n",
    "2. Top-User Rated plus similar movies:\n",
    "    - Take in the UserID as Input\n",
    "    - Fetch top-10 rated movies by that user\n",
    "    - Get top 20 similar movies for each of these 10 movies\n",
    "    - Filter the unique movies and sort them according to User Rating\n",
    "    - R"
   ]
  },
  {
   "cell_type": "code",
   "execution_count": 85,
   "metadata": {},
   "outputs": [],
   "source": [
    "def RecommendByUser_TopPicks(UID):\n",
    "    mvs = pd.DataFrame(movies_filtered)\n",
    "    mvs['Predicted User Rating'] = mvs['MovieID'].apply(lambda x: model.predict(UID,x).est)\n",
    "    mvs = mvs.sort_values(by = 'Predicted User Rating',ascending = False)\n",
    "    result = mvs[:20]\n",
    "    mid = result['MovieID']\n",
    "    #result['Actual User Rating'] = ratings[ratings['UserID']==UID][ratings.MovieID.isin(mid)]['Rating']\n",
    "    return result[['MovieID','Title','wt_rating','Predicted User Rating']]#,'Actual User Rating']]"
   ]
  },
  {
   "cell_type": "code",
   "execution_count": 86,
   "metadata": {},
   "outputs": [
    {
     "data": {
      "text/html": [
       "<div>\n",
       "<style scoped>\n",
       "    .dataframe tbody tr th:only-of-type {\n",
       "        vertical-align: middle;\n",
       "    }\n",
       "\n",
       "    .dataframe tbody tr th {\n",
       "        vertical-align: top;\n",
       "    }\n",
       "\n",
       "    .dataframe thead th {\n",
       "        text-align: right;\n",
       "    }\n",
       "</style>\n",
       "<table border=\"1\" class=\"dataframe\">\n",
       "  <thead>\n",
       "    <tr style=\"text-align: right;\">\n",
       "      <th></th>\n",
       "      <th>MovieID</th>\n",
       "      <th>Title</th>\n",
       "      <th>wt_rating</th>\n",
       "      <th>Predicted User Rating</th>\n",
       "    </tr>\n",
       "  </thead>\n",
       "  <tbody>\n",
       "    <tr>\n",
       "      <td>2874</td>\n",
       "      <td>2959</td>\n",
       "      <td>Fight Club (1999)</td>\n",
       "      <td>4.136484</td>\n",
       "      <td>4.619039</td>\n",
       "    </tr>\n",
       "    <tr>\n",
       "      <td>10216</td>\n",
       "      <td>58559</td>\n",
       "      <td>Dark Knight, The (2008)</td>\n",
       "      <td>4.005026</td>\n",
       "      <td>4.473441</td>\n",
       "    </tr>\n",
       "    <tr>\n",
       "      <td>2418</td>\n",
       "      <td>2502</td>\n",
       "      <td>Office Space (1999)</td>\n",
       "      <td>3.899014</td>\n",
       "      <td>4.442909</td>\n",
       "    </tr>\n",
       "    <tr>\n",
       "      <td>3348</td>\n",
       "      <td>3435</td>\n",
       "      <td>Double Indemnity (1944)</td>\n",
       "      <td>4.002917</td>\n",
       "      <td>4.424520</td>\n",
       "    </tr>\n",
       "    <tr>\n",
       "      <td>9179</td>\n",
       "      <td>34405</td>\n",
       "      <td>Serenity (2005)</td>\n",
       "      <td>3.745126</td>\n",
       "      <td>4.420964</td>\n",
       "    </tr>\n",
       "    <tr>\n",
       "      <td>5916</td>\n",
       "      <td>6016</td>\n",
       "      <td>City of God (Cidade de Deus) (2002)</td>\n",
       "      <td>4.074813</td>\n",
       "      <td>4.412717</td>\n",
       "    </tr>\n",
       "    <tr>\n",
       "      <td>4784</td>\n",
       "      <td>4878</td>\n",
       "      <td>Donnie Darko (2001)</td>\n",
       "      <td>3.948683</td>\n",
       "      <td>4.399662</td>\n",
       "    </tr>\n",
       "    <tr>\n",
       "      <td>1169</td>\n",
       "      <td>1193</td>\n",
       "      <td>One Flew Over the Cuckoo's Nest (1975)</td>\n",
       "      <td>4.226041</td>\n",
       "      <td>4.399631</td>\n",
       "    </tr>\n",
       "    <tr>\n",
       "      <td>49</td>\n",
       "      <td>50</td>\n",
       "      <td>Usual Suspects, The (1995)</td>\n",
       "      <td>4.323547</td>\n",
       "      <td>4.386708</td>\n",
       "    </tr>\n",
       "    <tr>\n",
       "      <td>843</td>\n",
       "      <td>858</td>\n",
       "      <td>Godfather, The (1972)</td>\n",
       "      <td>4.360473</td>\n",
       "      <td>4.377502</td>\n",
       "    </tr>\n",
       "    <tr>\n",
       "      <td>8081</td>\n",
       "      <td>8784</td>\n",
       "      <td>Garden State (2004)</td>\n",
       "      <td>3.756837</td>\n",
       "      <td>4.371771</td>\n",
       "    </tr>\n",
       "    <tr>\n",
       "      <td>315</td>\n",
       "      <td>318</td>\n",
       "      <td>Shawshank Redemption, The (1994)</td>\n",
       "      <td>4.420682</td>\n",
       "      <td>4.351780</td>\n",
       "    </tr>\n",
       "    <tr>\n",
       "      <td>2245</td>\n",
       "      <td>2329</td>\n",
       "      <td>American History X (1998)</td>\n",
       "      <td>4.064074</td>\n",
       "      <td>4.350603</td>\n",
       "    </tr>\n",
       "    <tr>\n",
       "      <td>1149</td>\n",
       "      <td>1172</td>\n",
       "      <td>Cinema Paradiso (Nuovo cinema Paradiso) (1989)</td>\n",
       "      <td>4.025464</td>\n",
       "      <td>4.343687</td>\n",
       "    </tr>\n",
       "    <tr>\n",
       "      <td>2240</td>\n",
       "      <td>2324</td>\n",
       "      <td>Life Is Beautiful (La Vita Ã¨ bella) (1997)</td>\n",
       "      <td>4.079772</td>\n",
       "      <td>4.343203</td>\n",
       "    </tr>\n",
       "    <tr>\n",
       "      <td>737</td>\n",
       "      <td>750</td>\n",
       "      <td>Dr. Strangelove or: How I Learned to Stop Worr...</td>\n",
       "      <td>4.217418</td>\n",
       "      <td>4.340975</td>\n",
       "    </tr>\n",
       "    <tr>\n",
       "      <td>1195</td>\n",
       "      <td>1221</td>\n",
       "      <td>Godfather: Part II, The (1974)</td>\n",
       "      <td>4.230781</td>\n",
       "      <td>4.332635</td>\n",
       "    </tr>\n",
       "    <tr>\n",
       "      <td>887</td>\n",
       "      <td>904</td>\n",
       "      <td>Rear Window (1954)</td>\n",
       "      <td>4.209744</td>\n",
       "      <td>4.331918</td>\n",
       "    </tr>\n",
       "    <tr>\n",
       "      <td>1253</td>\n",
       "      <td>1281</td>\n",
       "      <td>Great Dictator, The (1940)</td>\n",
       "      <td>3.769547</td>\n",
       "      <td>4.322711</td>\n",
       "    </tr>\n",
       "    <tr>\n",
       "      <td>891</td>\n",
       "      <td>908</td>\n",
       "      <td>North by Northwest (1959)</td>\n",
       "      <td>4.155201</td>\n",
       "      <td>4.319473</td>\n",
       "    </tr>\n",
       "  </tbody>\n",
       "</table>\n",
       "</div>"
      ],
      "text/plain": [
       "       MovieID                                              Title  wt_rating  \\\n",
       "2874      2959                                  Fight Club (1999)   4.136484   \n",
       "10216    58559                            Dark Knight, The (2008)   4.005026   \n",
       "2418      2502                                Office Space (1999)   3.899014   \n",
       "3348      3435                            Double Indemnity (1944)   4.002917   \n",
       "9179     34405                                    Serenity (2005)   3.745126   \n",
       "5916      6016                City of God (Cidade de Deus) (2002)   4.074813   \n",
       "4784      4878                                Donnie Darko (2001)   3.948683   \n",
       "1169      1193             One Flew Over the Cuckoo's Nest (1975)   4.226041   \n",
       "49          50                         Usual Suspects, The (1995)   4.323547   \n",
       "843        858                              Godfather, The (1972)   4.360473   \n",
       "8081      8784                                Garden State (2004)   3.756837   \n",
       "315        318                   Shawshank Redemption, The (1994)   4.420682   \n",
       "2245      2329                          American History X (1998)   4.064074   \n",
       "1149      1172     Cinema Paradiso (Nuovo cinema Paradiso) (1989)   4.025464   \n",
       "2240      2324        Life Is Beautiful (La Vita Ã¨ bella) (1997)   4.079772   \n",
       "737        750  Dr. Strangelove or: How I Learned to Stop Worr...   4.217418   \n",
       "1195      1221                     Godfather: Part II, The (1974)   4.230781   \n",
       "887        904                                 Rear Window (1954)   4.209744   \n",
       "1253      1281                         Great Dictator, The (1940)   3.769547   \n",
       "891        908                          North by Northwest (1959)   4.155201   \n",
       "\n",
       "       Predicted User Rating  \n",
       "2874                4.619039  \n",
       "10216               4.473441  \n",
       "2418                4.442909  \n",
       "3348                4.424520  \n",
       "9179                4.420964  \n",
       "5916                4.412717  \n",
       "4784                4.399662  \n",
       "1169                4.399631  \n",
       "49                  4.386708  \n",
       "843                 4.377502  \n",
       "8081                4.371771  \n",
       "315                 4.351780  \n",
       "2245                4.350603  \n",
       "1149                4.343687  \n",
       "2240                4.343203  \n",
       "737                 4.340975  \n",
       "1195                4.332635  \n",
       "887                 4.331918  \n",
       "1253                4.322711  \n",
       "891                 4.319473  "
      ]
     },
     "execution_count": 86,
     "metadata": {},
     "output_type": "execute_result"
    }
   ],
   "source": [
    "RecommendByUser_TopPicks(111)"
   ]
  },
  {
   "cell_type": "code",
   "execution_count": 87,
   "metadata": {},
   "outputs": [],
   "source": [
    "def RecommendByUser2_TopPicks(UID):\n",
    "    mr = movie_rating[movie_rating['UserID'] == UID].sort_values(by='Rating',ascending=False)\n",
    "    mr = mr.drop_duplicates(subset=['Title'], keep='first', inplace=False)[:10]\n",
    "    mvs = mr['Title'].unique()\n",
    "    df = pd.DataFrame()\n",
    "    for mv in mr['Title']:\n",
    "        mv_lis = RecommendByMovie(mv)[:5]\n",
    "        mv_lis['Predicted User Rating'] = mv_lis['MovieID'].apply(lambda x: model.predict(UID,x).est)\n",
    "        df=df.append(mv_lis[['MovieID','Title','wt_rating','Predicted User Rating']]) \n",
    "    \n",
    "    df = df.drop_duplicates(subset=['Title'], keep='first', inplace=False)\n",
    "    return df.sort_values(by='Predicted User Rating',ascending = False)\n",
    "    "
   ]
  },
  {
   "cell_type": "code",
   "execution_count": 88,
   "metadata": {},
   "outputs": [
    {
     "data": {
      "text/html": [
       "<div>\n",
       "<style scoped>\n",
       "    .dataframe tbody tr th:only-of-type {\n",
       "        vertical-align: middle;\n",
       "    }\n",
       "\n",
       "    .dataframe tbody tr th {\n",
       "        vertical-align: top;\n",
       "    }\n",
       "\n",
       "    .dataframe thead th {\n",
       "        text-align: right;\n",
       "    }\n",
       "</style>\n",
       "<table border=\"1\" class=\"dataframe\">\n",
       "  <thead>\n",
       "    <tr style=\"text-align: right;\">\n",
       "      <th></th>\n",
       "      <th>MovieID</th>\n",
       "      <th>Title</th>\n",
       "      <th>wt_rating</th>\n",
       "      <th>Predicted User Rating</th>\n",
       "    </tr>\n",
       "  </thead>\n",
       "  <tbody>\n",
       "    <tr>\n",
       "      <td>6</td>\n",
       "      <td>1193</td>\n",
       "      <td>One Flew Over the Cuckoo's Nest (1975)</td>\n",
       "      <td>4.208731</td>\n",
       "      <td>4.399631</td>\n",
       "    </tr>\n",
       "    <tr>\n",
       "      <td>2</td>\n",
       "      <td>50</td>\n",
       "      <td>Usual Suspects, The (1995)</td>\n",
       "      <td>4.285997</td>\n",
       "      <td>4.386708</td>\n",
       "    </tr>\n",
       "    <tr>\n",
       "      <td>1</td>\n",
       "      <td>858</td>\n",
       "      <td>Godfather, The (1972)</td>\n",
       "      <td>4.307526</td>\n",
       "      <td>4.377502</td>\n",
       "    </tr>\n",
       "    <tr>\n",
       "      <td>0</td>\n",
       "      <td>318</td>\n",
       "      <td>Shawshank Redemption, The (1994)</td>\n",
       "      <td>4.371515</td>\n",
       "      <td>4.351780</td>\n",
       "    </tr>\n",
       "    <tr>\n",
       "      <td>5</td>\n",
       "      <td>1221</td>\n",
       "      <td>Godfather: Part II, The (1974)</td>\n",
       "      <td>4.211303</td>\n",
       "      <td>4.332635</td>\n",
       "    </tr>\n",
       "    <tr>\n",
       "      <td>20</td>\n",
       "      <td>4226</td>\n",
       "      <td>Memento (2000)</td>\n",
       "      <td>4.119197</td>\n",
       "      <td>4.289480</td>\n",
       "    </tr>\n",
       "    <tr>\n",
       "      <td>4</td>\n",
       "      <td>912</td>\n",
       "      <td>Casablanca (1942)</td>\n",
       "      <td>4.218984</td>\n",
       "      <td>4.251738</td>\n",
       "    </tr>\n",
       "    <tr>\n",
       "      <td>11</td>\n",
       "      <td>593</td>\n",
       "      <td>Silence of the Lambs, The (1991)</td>\n",
       "      <td>4.173686</td>\n",
       "      <td>4.181173</td>\n",
       "    </tr>\n",
       "    <tr>\n",
       "      <td>25</td>\n",
       "      <td>296</td>\n",
       "      <td>Pulp Fiction (1994)</td>\n",
       "      <td>4.123394</td>\n",
       "      <td>4.173125</td>\n",
       "    </tr>\n",
       "    <tr>\n",
       "      <td>3</td>\n",
       "      <td>527</td>\n",
       "      <td>Schindler's List (1993)</td>\n",
       "      <td>4.298700</td>\n",
       "      <td>4.169063</td>\n",
       "    </tr>\n",
       "    <tr>\n",
       "      <td>29</td>\n",
       "      <td>4993</td>\n",
       "      <td>Lord of the Rings: The Fellowship of the Ring,...</td>\n",
       "      <td>4.090594</td>\n",
       "      <td>4.152123</td>\n",
       "    </tr>\n",
       "    <tr>\n",
       "      <td>287</td>\n",
       "      <td>54286</td>\n",
       "      <td>Bourne Ultimatum, The (2007)</td>\n",
       "      <td>3.598399</td>\n",
       "      <td>4.111091</td>\n",
       "    </tr>\n",
       "    <tr>\n",
       "      <td>77</td>\n",
       "      <td>457</td>\n",
       "      <td>Fugitive, The (1993)</td>\n",
       "      <td>3.941056</td>\n",
       "      <td>4.064570</td>\n",
       "    </tr>\n",
       "    <tr>\n",
       "      <td>7</td>\n",
       "      <td>1198</td>\n",
       "      <td>Raiders of the Lost Ark (Indiana Jones and the...</td>\n",
       "      <td>4.178349</td>\n",
       "      <td>4.050654</td>\n",
       "    </tr>\n",
       "    <tr>\n",
       "      <td>10</td>\n",
       "      <td>260</td>\n",
       "      <td>Star Wars: Episode IV - A New Hope (a.k.a. Sta...</td>\n",
       "      <td>4.161481</td>\n",
       "      <td>4.003514</td>\n",
       "    </tr>\n",
       "    <tr>\n",
       "      <td>284</td>\n",
       "      <td>5418</td>\n",
       "      <td>Bourne Identity, The (2002)</td>\n",
       "      <td>3.686008</td>\n",
       "      <td>3.969295</td>\n",
       "    </tr>\n",
       "    <tr>\n",
       "      <td>451</td>\n",
       "      <td>3104</td>\n",
       "      <td>Midnight Run (1988)</td>\n",
       "      <td>3.532193</td>\n",
       "      <td>3.925502</td>\n",
       "    </tr>\n",
       "    <tr>\n",
       "      <td>404</td>\n",
       "      <td>3508</td>\n",
       "      <td>Outlaw Josey Wales, The (1976)</td>\n",
       "      <td>3.495942</td>\n",
       "      <td>3.902425</td>\n",
       "    </tr>\n",
       "    <tr>\n",
       "      <td>144</td>\n",
       "      <td>1036</td>\n",
       "      <td>Die Hard (1988)</td>\n",
       "      <td>3.838338</td>\n",
       "      <td>3.894066</td>\n",
       "    </tr>\n",
       "    <tr>\n",
       "      <td>450</td>\n",
       "      <td>733</td>\n",
       "      <td>Rock, The (1996)</td>\n",
       "      <td>3.636821</td>\n",
       "      <td>3.892240</td>\n",
       "    </tr>\n",
       "  </tbody>\n",
       "</table>\n",
       "</div>"
      ],
      "text/plain": [
       "     MovieID                                              Title  wt_rating  \\\n",
       "6       1193             One Flew Over the Cuckoo's Nest (1975)   4.208731   \n",
       "2         50                         Usual Suspects, The (1995)   4.285997   \n",
       "1        858                              Godfather, The (1972)   4.307526   \n",
       "0        318                   Shawshank Redemption, The (1994)   4.371515   \n",
       "5       1221                     Godfather: Part II, The (1974)   4.211303   \n",
       "20      4226                                     Memento (2000)   4.119197   \n",
       "4        912                                  Casablanca (1942)   4.218984   \n",
       "11       593                   Silence of the Lambs, The (1991)   4.173686   \n",
       "25       296                                Pulp Fiction (1994)   4.123394   \n",
       "3        527                            Schindler's List (1993)   4.298700   \n",
       "29      4993  Lord of the Rings: The Fellowship of the Ring,...   4.090594   \n",
       "287    54286                       Bourne Ultimatum, The (2007)   3.598399   \n",
       "77       457                               Fugitive, The (1993)   3.941056   \n",
       "7       1198  Raiders of the Lost Ark (Indiana Jones and the...   4.178349   \n",
       "10       260  Star Wars: Episode IV - A New Hope (a.k.a. Sta...   4.161481   \n",
       "284     5418                        Bourne Identity, The (2002)   3.686008   \n",
       "451     3104                                Midnight Run (1988)   3.532193   \n",
       "404     3508                     Outlaw Josey Wales, The (1976)   3.495942   \n",
       "144     1036                                    Die Hard (1988)   3.838338   \n",
       "450      733                                   Rock, The (1996)   3.636821   \n",
       "\n",
       "     Predicted User Rating  \n",
       "6                 4.399631  \n",
       "2                 4.386708  \n",
       "1                 4.377502  \n",
       "0                 4.351780  \n",
       "5                 4.332635  \n",
       "20                4.289480  \n",
       "4                 4.251738  \n",
       "11                4.181173  \n",
       "25                4.173125  \n",
       "3                 4.169063  \n",
       "29                4.152123  \n",
       "287               4.111091  \n",
       "77                4.064570  \n",
       "7                 4.050654  \n",
       "10                4.003514  \n",
       "284               3.969295  \n",
       "451               3.925502  \n",
       "404               3.902425  \n",
       "144               3.894066  \n",
       "450               3.892240  "
      ]
     },
     "execution_count": 88,
     "metadata": {},
     "output_type": "execute_result"
    }
   ],
   "source": [
    "RecommendByUser2_TopPicks(111)[:20]"
   ]
  },
  {
   "cell_type": "code",
   "execution_count": null,
   "metadata": {},
   "outputs": [],
   "source": []
  }
 ],
 "metadata": {
  "kernelspec": {
   "display_name": "Python 3",
   "language": "python",
   "name": "python3"
  },
  "language_info": {
   "codemirror_mode": {
    "name": "ipython",
    "version": 3
   },
   "file_extension": ".py",
   "mimetype": "text/x-python",
   "name": "python",
   "nbconvert_exporter": "python",
   "pygments_lexer": "ipython3",
   "version": "3.7.4"
  }
 },
 "nbformat": 4,
 "nbformat_minor": 2
}
